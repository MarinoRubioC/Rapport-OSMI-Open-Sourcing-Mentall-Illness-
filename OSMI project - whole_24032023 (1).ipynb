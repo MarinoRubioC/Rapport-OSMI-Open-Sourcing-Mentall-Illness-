{
 "cells": [
  {
   "cell_type": "code",
   "execution_count": 4,
   "id": "87785c35",
   "metadata": {},
   "outputs": [],
   "source": [
    "%matplotlib inline\n",
    "import matplotlib.pyplot as plt\n",
    "import numpy as np\n",
    "import pandas as pd\n",
    "\n",
    "df=pd.read_csv('OSMI_2016.csv')"
   ]
  },
  {
   "cell_type": "code",
   "execution_count": 180,
   "id": "1e3c6a7e",
   "metadata": {},
   "outputs": [],
   "source": [
    "#Renommage des colonnes"
   ]
  },
  {
   "cell_type": "code",
   "execution_count": 238,
   "id": "b91f39bb",
   "metadata": {},
   "outputs": [
    {
     "data": {
      "text/plain": [
       "Index(['Are you self-employed?',\n",
       "       'How many employees does your company or organization have?',\n",
       "       'Is your employer primarily a tech company/organization?',\n",
       "       'Is your primary role within your company related to tech/IT?',\n",
       "       'Does your employer provide mental health benefits as part of healthcare coverage?',\n",
       "       'Do you know the options for mental health care available under your employer-provided coverage?',\n",
       "       'Has your employer ever formally discussed mental health (for example, as part of a wellness campaign or other official communication)?',\n",
       "       'Does your employer offer resources to learn more about mental health concerns and options for seeking help?',\n",
       "       'Is your anonymity protected if you choose to take advantage of mental health or substance abuse treatment resources provided by your employer?',\n",
       "       'If a mental health issue prompted you to request a medical leave from work, asking for that leave would be:',\n",
       "       'Do you think that discussing a mental health disorder with your employer would have negative consequences?',\n",
       "       'Do you think that discussing a physical health issue with your employer would have negative consequences?',\n",
       "       'Would you feel comfortable discussing a mental health disorder with your coworkers?',\n",
       "       'Would you feel comfortable discussing a mental health disorder with your direct supervisor(s)?',\n",
       "       'Do you feel that your employer takes mental health as seriously as physical health?',\n",
       "       'Have you heard of or observed negative consequences for co-workers who have been open about mental health issues in your workplace?',\n",
       "       'Do you have medical coverage (private insurance or state-provided) which includes treatment of  mental health issues?',\n",
       "       'Do you know local or online resources to seek help for a mental health disorder?',\n",
       "       'If you have been diagnosed or treated for a mental health disorder, do you ever reveal this to clients or business contacts?',\n",
       "       'If you have revealed a mental health issue to a client or business contact, do you believe this has impacted you negatively?',\n",
       "       'If you have been diagnosed or treated for a mental health disorder, do you ever reveal this to coworkers or employees?',\n",
       "       'If you have revealed a mental health issue to a coworker or employee, do you believe this has impacted you negatively?',\n",
       "       'Do you believe your productivity is ever affected by a mental health issue?',\n",
       "       'If yes, what percentage of your work time (time performing primary or secondary job functions) is affected by a mental health issue?',\n",
       "       'Do you have previous employers?',\n",
       "       'Have your previous employers provided mental health benefits?',\n",
       "       'Were you aware of the options for mental health care provided by your previous employers?',\n",
       "       'Did your previous employers ever formally discuss mental health (as part of a wellness campaign or other official communication)?',\n",
       "       'Did your previous employers provide resources to learn more about mental health issues and how to seek help?',\n",
       "       'Was your anonymity protected if you chose to take advantage of mental health or substance abuse treatment resources with previous employers?',\n",
       "       'Do you think that discussing a mental health disorder with previous employers would have negative consequences?',\n",
       "       'Do you think that discussing a physical health issue with previous employers would have negative consequences?',\n",
       "       'Would you have been willing to discuss a mental health issue with your previous co-workers?',\n",
       "       'Would you have been willing to discuss a mental health issue with your direct supervisor(s)?',\n",
       "       'Did you feel that your previous employers took mental health as seriously as physical health?',\n",
       "       'Did you hear of or observe negative consequences for co-workers with mental health issues in your previous workplaces?',\n",
       "       'Would you be willing to bring up a physical health issue with a potential employer in an interview?',\n",
       "       'Why or why not?',\n",
       "       'Would you bring up a mental health issue with a potential employer in an interview?',\n",
       "       'Why or why not?.1',\n",
       "       'Do you feel that being identified as a person with a mental health issue would hurt your career?',\n",
       "       'Do you think that team members/co-workers would view you more negatively if they knew you suffered from a mental health issue?',\n",
       "       'How willing would you be to share with friends and family that you have a mental illness?',\n",
       "       'Have you observed or experienced an unsupportive or badly handled response to a mental health issue in your current or previous workplace?',\n",
       "       'Have your observations of how another individual who discussed a mental health disorder made you less likely to reveal a mental health issue yourself in your current workplace?',\n",
       "       'Do you have a family history of mental illness?',\n",
       "       'Have you had a mental health disorder in the past?',\n",
       "       'Do you currently have a mental health disorder?',\n",
       "       'If yes, what condition(s) have you been diagnosed with?',\n",
       "       'If maybe, what condition(s) do you believe you have?',\n",
       "       'Have you been diagnosed with a mental health condition by a medical professional?',\n",
       "       'If so, what condition(s) were you diagnosed with?',\n",
       "       'Have you ever sought treatment for a mental health issue from a mental health professional?',\n",
       "       'If you have a mental health issue, do you feel that it interferes with your work when being treated effectively?',\n",
       "       'If you have a mental health issue, do you feel that it interferes with your work when NOT being treated effectively?',\n",
       "       'What is your age?', 'What is your gender?',\n",
       "       'What country do you live in?',\n",
       "       'What US state or territory do you live in?',\n",
       "       'What country do you work in?',\n",
       "       'What US state or territory do you work in?',\n",
       "       'Which of the following best describes your work position?',\n",
       "       'Do you work remotely?'],\n",
       "      dtype='object')"
      ]
     },
     "execution_count": 238,
     "metadata": {},
     "output_type": "execute_result"
    }
   ],
   "source": [
    "df.columns"
   ]
  },
  {
   "cell_type": "code",
   "execution_count": 39,
   "id": "f5bbcddb",
   "metadata": {},
   "outputs": [],
   "source": [
    "d1={'Are you self-employed?':'self_employed',\n",
    "      'How many employees does your company or organization have?':'nb_employees',\n",
    "      'Is your employer primarily a tech company/organization?':'tech company',\n",
    "      'Is your primary role within your company related to tech/IT?':'role',\n",
    "      'Does your employer provide mental health benefits as part of healthcare coverage?':'healthcare_coverage',\n",
    "      \n",
    "      'Do you know the options for mental health care available under your employer-provided coverage?':'options_mental_health_care',\n",
    "      \n",
    "      'Has your employer ever formally discussed mental health (for example, as part of a wellness campaign or other official communication)?':'mh_discuss',\n",
    "      \n",
    "      'Does your employer offer resources to learn more about mental health concerns and options for seeking help?':'resources',\n",
    "      'Is your anonymity protected if you choose to take advantage of mental health or substance abuse treatment resources provided by your employer?':'anonymity_protected',\n",
    "      'If a mental health issue prompted you to request a medical leave from work, asking for that leave would be:':'asking_leave',\n",
    "      'Do you think that discussing a mental health disorder with your employer would have negative consequences?':'discuss_mental',\n",
    "      'Do you think that discussing a physical health issue with your employer would have negative consequences?':'discuss_physical',\n",
    "      'Would you feel comfortable discussing a mental health disorder with your coworkers?':'discuss_coworkers',\n",
    "      'Would you feel comfortable discussing a mental health disorder with your direct supervisor(s)?':'discuss_supervisor',\n",
    "      'Do you feel that your employer takes mental health as seriously as physical health?':'mental_vs_physical',\n",
    "      'Have you heard of or observed negative consequences for co-workers who have been open about mental health issues in your workplace?':'negative_csqs_for_others',\n",
    "      'Do you have medical coverage (private insurance or state-provided) which includes treatment of  mental health issues?':'medical_coverage',\n",
    "      'Do you know local or online resources to seek help for a mental health disorder?':'resources_for_help',\n",
    "      'If you have been diagnosed or treated for a mental health disorder, do you ever reveal this to clients or business contacts?':'if_yes_reveal_clients',\n",
    "      'If you have revealed a mental health issue to a client or business contact, do you believe this has impacted you negatively?':'if_revealed_negative_impact_client',\n",
    "      'If you have been diagnosed or treated for a mental health disorder, do you ever reveal this to coworkers or employees?':'if_yes_reveal_coworkers',\n",
    "      'If you have revealed a mental health issue to a coworker or employee, do you believe this has impacted you negatively?':'if_revealed_coworkers_negative_impact'}\n",
    "     \n",
    "df.rename(columns=d1,inplace=True)"
   ]
  },
  {
   "cell_type": "code",
   "execution_count": 4,
   "id": "d2f658ce",
   "metadata": {},
   "outputs": [
    {
     "data": {
      "text/html": [
       "<div>\n",
       "<style scoped>\n",
       "    .dataframe tbody tr th:only-of-type {\n",
       "        vertical-align: middle;\n",
       "    }\n",
       "\n",
       "    .dataframe tbody tr th {\n",
       "        vertical-align: top;\n",
       "    }\n",
       "\n",
       "    .dataframe thead th {\n",
       "        text-align: right;\n",
       "    }\n",
       "</style>\n",
       "<table border=\"1\" class=\"dataframe\">\n",
       "  <thead>\n",
       "    <tr style=\"text-align: right;\">\n",
       "      <th></th>\n",
       "      <th>self_employed</th>\n",
       "      <th>nb_employees</th>\n",
       "      <th>tech company</th>\n",
       "      <th>role</th>\n",
       "      <th>healthcare_coverage</th>\n",
       "      <th>options_mental_health_care</th>\n",
       "      <th>mh_discuss</th>\n",
       "      <th>resources</th>\n",
       "      <th>anonymity_protected</th>\n",
       "      <th>asking_leave</th>\n",
       "      <th>...</th>\n",
       "      <th>If you have a mental health issue, do you feel that it interferes with your work when being treated effectively?</th>\n",
       "      <th>If you have a mental health issue, do you feel that it interferes with your work when NOT being treated effectively?</th>\n",
       "      <th>What is your age?</th>\n",
       "      <th>What is your gender?</th>\n",
       "      <th>What country do you live in?</th>\n",
       "      <th>What US state or territory do you live in?</th>\n",
       "      <th>What country do you work in?</th>\n",
       "      <th>What US state or territory do you work in?</th>\n",
       "      <th>Which of the following best describes your work position?</th>\n",
       "      <th>Do you work remotely?</th>\n",
       "    </tr>\n",
       "  </thead>\n",
       "  <tbody>\n",
       "    <tr>\n",
       "      <th>0</th>\n",
       "      <td>0</td>\n",
       "      <td>26-100</td>\n",
       "      <td>1.0</td>\n",
       "      <td>NaN</td>\n",
       "      <td>Not eligible for coverage / N/A</td>\n",
       "      <td>NaN</td>\n",
       "      <td>No</td>\n",
       "      <td>No</td>\n",
       "      <td>I don't know</td>\n",
       "      <td>Very easy</td>\n",
       "      <td>...</td>\n",
       "      <td>Not applicable to me</td>\n",
       "      <td>Not applicable to me</td>\n",
       "      <td>39</td>\n",
       "      <td>Male</td>\n",
       "      <td>United Kingdom</td>\n",
       "      <td>NaN</td>\n",
       "      <td>United Kingdom</td>\n",
       "      <td>NaN</td>\n",
       "      <td>Back-end Developer</td>\n",
       "      <td>Sometimes</td>\n",
       "    </tr>\n",
       "    <tr>\n",
       "      <th>1</th>\n",
       "      <td>0</td>\n",
       "      <td>6-25</td>\n",
       "      <td>1.0</td>\n",
       "      <td>NaN</td>\n",
       "      <td>No</td>\n",
       "      <td>Yes</td>\n",
       "      <td>Yes</td>\n",
       "      <td>Yes</td>\n",
       "      <td>Yes</td>\n",
       "      <td>Somewhat easy</td>\n",
       "      <td>...</td>\n",
       "      <td>Rarely</td>\n",
       "      <td>Sometimes</td>\n",
       "      <td>29</td>\n",
       "      <td>male</td>\n",
       "      <td>United States of America</td>\n",
       "      <td>Illinois</td>\n",
       "      <td>United States of America</td>\n",
       "      <td>Illinois</td>\n",
       "      <td>Back-end Developer|Front-end Developer</td>\n",
       "      <td>Never</td>\n",
       "    </tr>\n",
       "    <tr>\n",
       "      <th>2</th>\n",
       "      <td>0</td>\n",
       "      <td>6-25</td>\n",
       "      <td>1.0</td>\n",
       "      <td>NaN</td>\n",
       "      <td>No</td>\n",
       "      <td>NaN</td>\n",
       "      <td>No</td>\n",
       "      <td>No</td>\n",
       "      <td>I don't know</td>\n",
       "      <td>Neither easy nor difficult</td>\n",
       "      <td>...</td>\n",
       "      <td>Not applicable to me</td>\n",
       "      <td>Not applicable to me</td>\n",
       "      <td>38</td>\n",
       "      <td>Male</td>\n",
       "      <td>United Kingdom</td>\n",
       "      <td>NaN</td>\n",
       "      <td>United Kingdom</td>\n",
       "      <td>NaN</td>\n",
       "      <td>Back-end Developer</td>\n",
       "      <td>Always</td>\n",
       "    </tr>\n",
       "    <tr>\n",
       "      <th>3</th>\n",
       "      <td>1</td>\n",
       "      <td>NaN</td>\n",
       "      <td>NaN</td>\n",
       "      <td>NaN</td>\n",
       "      <td>NaN</td>\n",
       "      <td>NaN</td>\n",
       "      <td>NaN</td>\n",
       "      <td>NaN</td>\n",
       "      <td>NaN</td>\n",
       "      <td>NaN</td>\n",
       "      <td>...</td>\n",
       "      <td>Sometimes</td>\n",
       "      <td>Sometimes</td>\n",
       "      <td>43</td>\n",
       "      <td>male</td>\n",
       "      <td>United Kingdom</td>\n",
       "      <td>NaN</td>\n",
       "      <td>United Kingdom</td>\n",
       "      <td>NaN</td>\n",
       "      <td>Supervisor/Team Lead</td>\n",
       "      <td>Sometimes</td>\n",
       "    </tr>\n",
       "    <tr>\n",
       "      <th>4</th>\n",
       "      <td>0</td>\n",
       "      <td>6-25</td>\n",
       "      <td>0.0</td>\n",
       "      <td>1.0</td>\n",
       "      <td>Yes</td>\n",
       "      <td>Yes</td>\n",
       "      <td>No</td>\n",
       "      <td>No</td>\n",
       "      <td>No</td>\n",
       "      <td>Neither easy nor difficult</td>\n",
       "      <td>...</td>\n",
       "      <td>Sometimes</td>\n",
       "      <td>Sometimes</td>\n",
       "      <td>43</td>\n",
       "      <td>Female</td>\n",
       "      <td>United States of America</td>\n",
       "      <td>Illinois</td>\n",
       "      <td>United States of America</td>\n",
       "      <td>Illinois</td>\n",
       "      <td>Executive Leadership|Supervisor/Team Lead|Dev ...</td>\n",
       "      <td>Sometimes</td>\n",
       "    </tr>\n",
       "  </tbody>\n",
       "</table>\n",
       "<p>5 rows × 63 columns</p>\n",
       "</div>"
      ],
      "text/plain": [
       "   self_employed nb_employees  tech company  role  \\\n",
       "0              0       26-100           1.0   NaN   \n",
       "1              0         6-25           1.0   NaN   \n",
       "2              0         6-25           1.0   NaN   \n",
       "3              1          NaN           NaN   NaN   \n",
       "4              0         6-25           0.0   1.0   \n",
       "\n",
       "               healthcare_coverage options_mental_health_care mh_discuss  \\\n",
       "0  Not eligible for coverage / N/A                        NaN         No   \n",
       "1                               No                        Yes        Yes   \n",
       "2                               No                        NaN         No   \n",
       "3                              NaN                        NaN        NaN   \n",
       "4                              Yes                        Yes         No   \n",
       "\n",
       "  resources anonymity_protected                asking_leave  ...  \\\n",
       "0        No        I don't know                   Very easy  ...   \n",
       "1       Yes                 Yes               Somewhat easy  ...   \n",
       "2        No        I don't know  Neither easy nor difficult  ...   \n",
       "3       NaN                 NaN                         NaN  ...   \n",
       "4        No                  No  Neither easy nor difficult  ...   \n",
       "\n",
       "  If you have a mental health issue, do you feel that it interferes with your work when being treated effectively?  \\\n",
       "0                               Not applicable to me                                                                 \n",
       "1                                             Rarely                                                                 \n",
       "2                               Not applicable to me                                                                 \n",
       "3                                          Sometimes                                                                 \n",
       "4                                          Sometimes                                                                 \n",
       "\n",
       "  If you have a mental health issue, do you feel that it interferes with your work when NOT being treated effectively?  \\\n",
       "0                               Not applicable to me                                                                     \n",
       "1                                          Sometimes                                                                     \n",
       "2                               Not applicable to me                                                                     \n",
       "3                                          Sometimes                                                                     \n",
       "4                                          Sometimes                                                                     \n",
       "\n",
       "  What is your age? What is your gender? What country do you live in?  \\\n",
       "0                39                 Male               United Kingdom   \n",
       "1                29                 male     United States of America   \n",
       "2                38                Male                United Kingdom   \n",
       "3                43                 male               United Kingdom   \n",
       "4                43               Female     United States of America   \n",
       "\n",
       "  What US state or territory do you live in?  What country do you work in?  \\\n",
       "0                                        NaN                United Kingdom   \n",
       "1                                   Illinois      United States of America   \n",
       "2                                        NaN                United Kingdom   \n",
       "3                                        NaN                United Kingdom   \n",
       "4                                   Illinois      United States of America   \n",
       "\n",
       "  What US state or territory do you work in?  \\\n",
       "0                                        NaN   \n",
       "1                                   Illinois   \n",
       "2                                        NaN   \n",
       "3                                        NaN   \n",
       "4                                   Illinois   \n",
       "\n",
       "  Which of the following best describes your work position?  \\\n",
       "0                                 Back-end Developer          \n",
       "1             Back-end Developer|Front-end Developer          \n",
       "2                                 Back-end Developer          \n",
       "3                               Supervisor/Team Lead          \n",
       "4  Executive Leadership|Supervisor/Team Lead|Dev ...          \n",
       "\n",
       "  Do you work remotely?  \n",
       "0             Sometimes  \n",
       "1                 Never  \n",
       "2                Always  \n",
       "3             Sometimes  \n",
       "4             Sometimes  \n",
       "\n",
       "[5 rows x 63 columns]"
      ]
     },
     "execution_count": 4,
     "metadata": {},
     "output_type": "execute_result"
    }
   ],
   "source": [
    "#df.rename(columns = {'col57':'gender'}, inplace = True)\n",
    "df.head()"
   ]
  },
  {
   "cell_type": "code",
   "execution_count": 40,
   "id": "acb82511",
   "metadata": {},
   "outputs": [],
   "source": [
    "d1={'Do you believe your productivity is ever affected by a mental health issue?':'productivity',\n",
    "      'If yes, what percentage of your work time (time performing primary or secondary job functions) is affected by a mental health issue?':'percentage_of_work_time_affected',\n",
    "      'Do you have previous employers?':'previous employers',\n",
    "      'Have your previous employers provided mental health benefits?':'mental_health_benefits_prev',\n",
    "      'Were you aware of the options for mental health care provided by your previous employers?':'options_prev',\n",
    "      'Did your previous employers ever formally discuss mental health (as part of a wellness campaign or other official communication)?':'mh_discuss_prev',\n",
    "      'Did your previous employers provide resources to learn more about mental health issues and how to seek help?':'respurces_for_help_prev',\n",
    "      'Was your anonymity protected if you chose to take advantage of mental health or substance abuse treatment resources with previous employers?':'anonymity_protected_prev',\n",
    "      'Do you think that discussing a mental health disorder with previous employers would have negative consequences?':'discuss_mental_prev',\n",
    "      'Do you think that discussing a physical health issue with previous employers would have negative consequences?':'discuss_physical_prev'}\n",
    "#'Have you observed or experienced an unsupportive or badly handled response to a mental health issue in your current or previous workplace?':'bad_response_at_work',\n",
    "df.rename(columns=d1,inplace=True)"
   ]
  },
  {
   "cell_type": "code",
   "execution_count": 41,
   "id": "f607115c",
   "metadata": {},
   "outputs": [],
   "source": [
    "d1={'Would you have been willing to discuss a mental health issue with your previous co-workers?':'discuss_coworkers_prev',\n",
    "    'Would you have been willing to discuss a mental health issue with your direct supervisor(s)?':'discuss_supervisor_prev',\n",
    "    'Did you feel that your previous employers took mental health as seriously as physical health?':'mental_vs_physical_prev',\n",
    "    'Did you hear of or observe negative consequences for co-workers with mental health issues in your previous workplaces?':'negative_csqs_for_others_prev',\n",
    "    'Would you be willing to bring up a physical health issue with a potential employer in an interview?':'physical_potential_employer',\n",
    "    'Would you bring up a mental health issue with a potential employer in an interview?':'mental_potential_employer',\n",
    "    'Do you feel that being identified as a person with a mental health issue would hurt your career?':'identification',\n",
    "    'Do you think that team members/co-workers would view you more negatively if they knew you suffered from a mental health issue?':'share_with_coworkers',\n",
    "    'How willing would you be to share with friends and family that you have a mental illness?':'share_with_family_friends',\n",
    "    'Have you observed or experienced an unsupportive or badly handled response to a mental health issue in your current or previous workplace?':'bad_response',\n",
    "    'Have your observations of how another individual who discussed a mental health disorder made you less likely to reveal a mental health issue yourself in your current workplace?':'fear_through_bad_response',\n",
    "    'Do you have a family history of mental illness?':'family_history',\n",
    "    'Have you had a mental health disorder in the past?':'past_mental_disorder',\n",
    "    'Do you currently have a mental health disorder?':'current_mental_disorder',\n",
    "    'Have you been diagnosed with a mental health condition by a medical professional?':'diagnosis',\n",
    "    'Have you ever sought treatment for a mental health issue from a mental health professional?':'treatment',\n",
    "    'If you have a mental health issue, do you feel that it interferes with your work when being treated effectively?':'interference_well_treated',\n",
    "    'If you have a mental health issue, do you feel that it interferes with your work when NOT being treated effectively?':'interference_badly_treated',\n",
    "    'What is your age?':'age',\n",
    "    'What is your gender?':'gender',\n",
    "    'What country do you live in?':'country_life',\n",
    "    'What US state or territory do you live in?':'US state_life',\n",
    "    'What country do you work in?':'country_work',\n",
    "    'What US state or territory do you work in?': 'US state_work',\n",
    "    'Which of the following best describes your work position?':'work_position',\n",
    "    'Do you work remotely?':'remote_work'}\n",
    "df.rename(columns=d1,inplace=True)\n"
   ]
  },
  {
   "cell_type": "code",
   "execution_count": 42,
   "id": "abf3d10b",
   "metadata": {},
   "outputs": [],
   "source": [
    "d1 ={ 'What country do you live in?':'country_life',\n",
    "      'What US state or territory do you live in?':'state_life',\n",
    "      'What country do you work in?':'country_work',\n",
    "      'What US state or territory do you work in?':'state_work'}\n",
    "df.rename(columns=d1,inplace=True)"
   ]
  },
  {
   "cell_type": "code",
   "execution_count": 43,
   "id": "aa8ab4eb",
   "metadata": {},
   "outputs": [],
   "source": [
    "d1 ={ 'Do you have medical coverage (private insurance or state-provided) which includes treatment of \\xa0mental health issues?':'coverage_for_mental_issues'\n",
    "      }\n",
    "df.rename(columns=d1,inplace=True)"
   ]
  },
  {
   "cell_type": "code",
   "execution_count": null,
   "id": "840f30ec",
   "metadata": {},
   "outputs": [],
   "source": []
  },
  {
   "cell_type": "code",
   "execution_count": 234,
   "id": "89a54f80",
   "metadata": {},
   "outputs": [
    {
     "data": {
      "text/plain": [
       "['self_employed',\n",
       " 'nb_employees',\n",
       " 'tech company',\n",
       " 'role',\n",
       " 'healthcare_coverage',\n",
       " 'options_mental_health_care',\n",
       " 'mh_discuss',\n",
       " 'resources',\n",
       " 'anonymity_protected',\n",
       " 'asking_leave',\n",
       " 'discuss_mental',\n",
       " 'discuss_physical',\n",
       " 'discuss_coworkers',\n",
       " 'discuss_supervisor',\n",
       " 'mental_vs_physical',\n",
       " 'negative_csqs_for_others',\n",
       " 'coverage_for_mental_issues',\n",
       " 'resources_for_help',\n",
       " 'if_yes_reveal_clients',\n",
       " 'if_revealed_negative_impact_client',\n",
       " 'if_yes_reveal_coworkers',\n",
       " 'if_revealed_coworkers_negative_impact',\n",
       " 'productivity',\n",
       " 'percentage_of_work_time_affected',\n",
       " 'previous employers',\n",
       " 'mental_health_benefits_prev',\n",
       " 'options_prev',\n",
       " 'mh_discuss_prev',\n",
       " 'respurces_for_help_prev',\n",
       " 'anonymity_protected_prev',\n",
       " 'discuss_mental_prev',\n",
       " 'discuss_physical_prev',\n",
       " 'discuss_coworkers_prev',\n",
       " 'discuss_supervisor_prev',\n",
       " 'mental_vs_physical_prev',\n",
       " 'negative_csqs_for_others_prev',\n",
       " 'physical_potential_employer',\n",
       " 'mental_potential_employer',\n",
       " 'identification',\n",
       " 'share_with_coworkers',\n",
       " 'share_with_family_friends',\n",
       " 'bad_response',\n",
       " 'fear_through_bad_response',\n",
       " 'family_history',\n",
       " 'past_mental_disorder',\n",
       " 'current_mental_disorder',\n",
       " 'diagnosis',\n",
       " 'treatment',\n",
       " 'interference_well_treated',\n",
       " 'interference_badly_treated',\n",
       " 'age',\n",
       " 'gender',\n",
       " 'country_life',\n",
       " 'US state_life',\n",
       " 'country_work',\n",
       " 'US state_work',\n",
       " 'work_position',\n",
       " 'remote_work']"
      ]
     },
     "execution_count": 234,
     "metadata": {},
     "output_type": "execute_result"
    }
   ],
   "source": [
    "df.columns.to_list()"
   ]
  },
  {
   "cell_type": "code",
   "execution_count": 177,
   "id": "6a82bd12",
   "metadata": {},
   "outputs": [],
   "source": [
    "#df.to_csv('df_151220220_1.csv')\n"
   ]
  },
  {
   "cell_type": "code",
   "execution_count": null,
   "id": "bb5f6d73",
   "metadata": {},
   "outputs": [],
   "source": [
    "#Remplissage des valeurs manquantes"
   ]
  },
  {
   "cell_type": "code",
   "execution_count": 10,
   "id": "eec50a5f",
   "metadata": {},
   "outputs": [
    {
     "data": {
      "text/plain": [
       "self_employed             0\n",
       "nb_employees            287\n",
       "tech company            287\n",
       "role                   1170\n",
       "healthcare_coverage     287\n",
       "                       ... \n",
       "US state_life           593\n",
       "country_work              0\n",
       "US state_work           582\n",
       "work_position             0\n",
       "remote_work               0\n",
       "Length: 63, dtype: int64"
      ]
     },
     "execution_count": 10,
     "metadata": {},
     "output_type": "execute_result"
    }
   ],
   "source": [
    "df.isna().sum()"
   ]
  },
  {
   "cell_type": "code",
   "execution_count": 192,
   "id": "a6301cb8",
   "metadata": {},
   "outputs": [],
   "source": [
    "df['nb_employees'] = df['nb_employees'].fillna(df['nb_employees'].mode()[0])\n",
    "df['tech company'] = df['tech company'].fillna(0)\n",
    "df['role'] = df['role'].fillna(0)\n",
    "df['healthcare_coverage'] = df['healthcare_coverage'].fillna(\"I don't know\")\n",
    "df['options_mental_health_care'] = df['options_mental_health_care'].fillna(\"I am not sure\")\n",
    "df['mh_discuss'] = df['mh_discuss'].fillna(\"I don't know\")\n",
    "df['resources']=df['resources'].fillna(\"I don't know\")\n",
    "df['anonymity_protected']=df['anonymity_protected'].fillna(\"I don't know\")\n",
    "df['asking_leave']=df['asking_leave'].fillna(\"I don't know\")\n",
    "df['discuss_mental']=df['discuss_mental'].fillna(\"Maybe\")\n",
    "df['discuss_physical']=df['discuss_physical'].fillna(\"Maybe\")\n",
    "df['discuss_coworkers']=df['discuss_coworkers'].fillna(\"Maybe\")\n",
    "df['discuss_supervisor']=df['discuss_supervisor'].fillna(\"Maybe\")\n",
    "df['mental_vs_physical']=df['mental_vs_physical'].fillna(\"I don't know\")\n",
    "df['negative_csqs_for_others']=df['negative_csqs_for_others'].fillna(\"No\")\n",
    "df['resources_for_help']=df['resources_for_help'].fillna(\"I know some\")\n",
    "df['coverage_for_mental_issues']=df['coverage_for_mental_issues'].fillna(0)\n",
    "df['if_yes_reveal_clients']=df['if_yes_reveal_clients'].fillna(\"Not applicable to me\")\n",
    "df['if_revealed_negative_impact_client']=df['if_revealed_negative_impact_client'].fillna(\"I'm not sure\")\n",
    "df['if_yes_reveal_coworkers']=df['if_yes_reveal_coworkers'].fillna(\"Not applicable to me\")\n",
    "df['if_revealed_coworkers_negative_impact']=df['if_revealed_coworkers_negative_impact'].fillna(\"I'm not sure\")\n",
    "df['productivity']=df['productivity'].fillna(\"Unsure\")\n",
    "df['percentage_of_work_time_affected']=df['percentage_of_work_time_affected'].fillna(\"1-25%\")\n",
    "df['previous employers']=df['previous employers'].fillna(1)\n",
    "df['mental_health_benefits_prev']=df['mental_health_benefits_prev'].fillna(\"I don't know\")\n",
    "df['mh_discuss_prev']=df['mh_discuss_prev'].fillna(\"I don't know\")\n",
    "df['respurces_for_help_prev']=df['respurces_for_help_prev'].fillna(\"None did\")\n",
    "df['anonymity_protected_prev']=df['anonymity_protected_prev'].fillna(\"I don't know\")\n",
    "df['discuss_mental_prev']=df['discuss_mental_prev'].fillna(\"I don't know\")\n",
    "df['discuss_physical_prev']=df['discuss_physical_prev'].fillna(\"Some of them\")"
   ]
  },
  {
   "cell_type": "code",
   "execution_count": 193,
   "id": "64cabd49",
   "metadata": {},
   "outputs": [],
   "source": [
    "df['discuss_coworkers_prev']=df['discuss_coworkers_prev'].fillna(\"Some of my previous employers\")\n",
    "df['discuss_supervisor_prev']=df['discuss_supervisor_prev'].fillna(\"I don't know\")\n",
    "df['mental_vs_physical_prev']=df['mental_vs_physical_prev'].fillna(\"I don't know\")\n",
    "df['negative_csqs_for_others_prev']=df['negative_csqs_for_others_prev'].fillna(\"None of them\")\n",
    "df['physical_potential_employer']=df['physical_potential_employer'].fillna(\"Maybe\")\n",
    "df['mental_potential_employer']=df['mental_potential_employer'].fillna(\"Maybe\")\n",
    "df['identification']=df['identification'].fillna(\"Maybe\")\n",
    "df['share_with_coworkers']=df['share_with_coworkers'].fillna(\"Maybe\")\n",
    "df['share_with_family_friends']=df['share_with_family_friends'].fillna(\"Neutral\")\n",
    "df['bad_response']=df['bad_response'].fillna(\"Maybe/Not sure\")\n",
    "df['fear_through_bad_response']=df['fear_through_bad_response'].fillna(\"Maybe\")\n",
    "df['family_history']=df['family_history'].fillna(\"I don't know\")\n",
    "df['past_mental_disorder']=df['past_mental_disorder'].fillna(\"Maybe\")\n",
    "df['current_mental_disorder']=df['current_mental_disorder'].fillna(\"Maybe\")\n",
    "df['treatment']=df['treatment'].fillna(0)\n",
    "df['interference_well_treated']=df['interference_well_treated'].fillna(\"Not applicable to me\")\n",
    "df['interference_badly_treated']=df['interference_badly_treated'].fillna(\"Not applicable to me\")\n",
    "df['work_position']=df['work_position'].fillna(\"Other\")\n",
    "df['remote_work']=df['remote_work'].fillna(\"Sometimes\")\n",
    "df['US state_life'] = df['US state_life'].fillna(\"None\")\n",
    "df['US state_work'] = df['US state_work'].fillna(\"None\")\n",
    "df['gender']=df['gender'].fillna(\"UNKNOWN\")\n",
    "df['options_prev']=df['options_prev'].fillna(\"No, I only became aware later\")"
   ]
  },
  {
   "cell_type": "code",
   "execution_count": 45,
   "id": "431f3118",
   "metadata": {},
   "outputs": [],
   "source": [
    "#df1=df.iloc[:, 0:16]\n",
    "#df2=df.iloc[:,17:63]\n",
    "#df=pd.concat([df1, df2], axis=1)"
   ]
  },
  {
   "cell_type": "code",
   "execution_count": 194,
   "id": "acc7a8ea",
   "metadata": {},
   "outputs": [],
   "source": [
    "#Colonnes supprimées\n",
    "df.drop('Why or why not?', axis=1, inplace=True)\n",
    "df.drop('Why or why not?.1', axis=1, inplace=True)\n",
    "df.drop('If yes, what condition(s) have you been diagnosed with?', axis=1, inplace=True)\n",
    "df.drop('If maybe, what condition(s) do you believe you have?', axis=1, inplace=True)\n",
    "df.drop('If so, what condition(s) were you diagnosed with?', axis=1, inplace=True)"
   ]
  },
  {
   "cell_type": "code",
   "execution_count": 14,
   "id": "46628b17",
   "metadata": {},
   "outputs": [
    {
     "data": {
      "text/plain": [
       "0"
      ]
     },
     "execution_count": 14,
     "metadata": {},
     "output_type": "execute_result"
    }
   ],
   "source": [
    "df.isna().sum().sum()"
   ]
  },
  {
   "cell_type": "code",
   "execution_count": 142,
   "id": "f23c84fb",
   "metadata": {},
   "outputs": [
    {
     "data": {
      "text/html": [
       "<div>\n",
       "<style scoped>\n",
       "    .dataframe tbody tr th:only-of-type {\n",
       "        vertical-align: middle;\n",
       "    }\n",
       "\n",
       "    .dataframe tbody tr th {\n",
       "        vertical-align: top;\n",
       "    }\n",
       "\n",
       "    .dataframe thead th {\n",
       "        text-align: right;\n",
       "    }\n",
       "</style>\n",
       "<table border=\"1\" class=\"dataframe\">\n",
       "  <thead>\n",
       "    <tr style=\"text-align: right;\">\n",
       "      <th></th>\n",
       "      <th>self_employed</th>\n",
       "      <th>nb_employees</th>\n",
       "      <th>tech company</th>\n",
       "      <th>role</th>\n",
       "      <th>healthcare_coverage</th>\n",
       "      <th>options_mental_health_care</th>\n",
       "      <th>mh_discuss</th>\n",
       "      <th>resources</th>\n",
       "      <th>anonymity_protected</th>\n",
       "      <th>asking_leave</th>\n",
       "      <th>...</th>\n",
       "      <th>interference_well_treated</th>\n",
       "      <th>interference_badly_treated</th>\n",
       "      <th>age</th>\n",
       "      <th>gender</th>\n",
       "      <th>country_life</th>\n",
       "      <th>US state_life</th>\n",
       "      <th>country_work</th>\n",
       "      <th>US state_work</th>\n",
       "      <th>work_position</th>\n",
       "      <th>remote_work</th>\n",
       "    </tr>\n",
       "  </thead>\n",
       "  <tbody>\n",
       "    <tr>\n",
       "      <th>0</th>\n",
       "      <td>0</td>\n",
       "      <td>26-100</td>\n",
       "      <td>1.0</td>\n",
       "      <td>0.0</td>\n",
       "      <td>Not eligible for coverage / N/A</td>\n",
       "      <td>I am not sure</td>\n",
       "      <td>No</td>\n",
       "      <td>No</td>\n",
       "      <td>I don't know</td>\n",
       "      <td>Very easy</td>\n",
       "      <td>...</td>\n",
       "      <td>Not applicable to me</td>\n",
       "      <td>Not applicable to me</td>\n",
       "      <td>39</td>\n",
       "      <td>Male</td>\n",
       "      <td>United Kingdom</td>\n",
       "      <td>None</td>\n",
       "      <td>United Kingdom</td>\n",
       "      <td>None</td>\n",
       "      <td>Back-end Developer</td>\n",
       "      <td>Sometimes</td>\n",
       "    </tr>\n",
       "    <tr>\n",
       "      <th>1</th>\n",
       "      <td>0</td>\n",
       "      <td>6-25</td>\n",
       "      <td>1.0</td>\n",
       "      <td>0.0</td>\n",
       "      <td>No</td>\n",
       "      <td>Yes</td>\n",
       "      <td>Yes</td>\n",
       "      <td>Yes</td>\n",
       "      <td>Yes</td>\n",
       "      <td>Somewhat easy</td>\n",
       "      <td>...</td>\n",
       "      <td>Rarely</td>\n",
       "      <td>Sometimes</td>\n",
       "      <td>29</td>\n",
       "      <td>male</td>\n",
       "      <td>United States of America</td>\n",
       "      <td>Illinois</td>\n",
       "      <td>United States of America</td>\n",
       "      <td>Illinois</td>\n",
       "      <td>Back-end Developer|Front-end Developer</td>\n",
       "      <td>Never</td>\n",
       "    </tr>\n",
       "    <tr>\n",
       "      <th>2</th>\n",
       "      <td>0</td>\n",
       "      <td>6-25</td>\n",
       "      <td>1.0</td>\n",
       "      <td>0.0</td>\n",
       "      <td>No</td>\n",
       "      <td>I am not sure</td>\n",
       "      <td>No</td>\n",
       "      <td>No</td>\n",
       "      <td>I don't know</td>\n",
       "      <td>Neither easy nor difficult</td>\n",
       "      <td>...</td>\n",
       "      <td>Not applicable to me</td>\n",
       "      <td>Not applicable to me</td>\n",
       "      <td>38</td>\n",
       "      <td>Male</td>\n",
       "      <td>United Kingdom</td>\n",
       "      <td>None</td>\n",
       "      <td>United Kingdom</td>\n",
       "      <td>None</td>\n",
       "      <td>Back-end Developer</td>\n",
       "      <td>Always</td>\n",
       "    </tr>\n",
       "    <tr>\n",
       "      <th>3</th>\n",
       "      <td>1</td>\n",
       "      <td>26-100</td>\n",
       "      <td>0.0</td>\n",
       "      <td>0.0</td>\n",
       "      <td>I don't know</td>\n",
       "      <td>I am not sure</td>\n",
       "      <td>I don't know</td>\n",
       "      <td>I don't know</td>\n",
       "      <td>I don't know</td>\n",
       "      <td>I don't know</td>\n",
       "      <td>...</td>\n",
       "      <td>Sometimes</td>\n",
       "      <td>Sometimes</td>\n",
       "      <td>43</td>\n",
       "      <td>male</td>\n",
       "      <td>United Kingdom</td>\n",
       "      <td>None</td>\n",
       "      <td>United Kingdom</td>\n",
       "      <td>None</td>\n",
       "      <td>Supervisor/Team Lead</td>\n",
       "      <td>Sometimes</td>\n",
       "    </tr>\n",
       "    <tr>\n",
       "      <th>4</th>\n",
       "      <td>0</td>\n",
       "      <td>6-25</td>\n",
       "      <td>0.0</td>\n",
       "      <td>1.0</td>\n",
       "      <td>Yes</td>\n",
       "      <td>Yes</td>\n",
       "      <td>No</td>\n",
       "      <td>No</td>\n",
       "      <td>No</td>\n",
       "      <td>Neither easy nor difficult</td>\n",
       "      <td>...</td>\n",
       "      <td>Sometimes</td>\n",
       "      <td>Sometimes</td>\n",
       "      <td>43</td>\n",
       "      <td>Female</td>\n",
       "      <td>United States of America</td>\n",
       "      <td>Illinois</td>\n",
       "      <td>United States of America</td>\n",
       "      <td>Illinois</td>\n",
       "      <td>Executive Leadership|Supervisor/Team Lead|Dev ...</td>\n",
       "      <td>Sometimes</td>\n",
       "    </tr>\n",
       "  </tbody>\n",
       "</table>\n",
       "<p>5 rows × 58 columns</p>\n",
       "</div>"
      ],
      "text/plain": [
       "   self_employed nb_employees  tech company  role  \\\n",
       "0              0       26-100           1.0   0.0   \n",
       "1              0         6-25           1.0   0.0   \n",
       "2              0         6-25           1.0   0.0   \n",
       "3              1       26-100           0.0   0.0   \n",
       "4              0         6-25           0.0   1.0   \n",
       "\n",
       "               healthcare_coverage options_mental_health_care    mh_discuss  \\\n",
       "0  Not eligible for coverage / N/A              I am not sure            No   \n",
       "1                               No                        Yes           Yes   \n",
       "2                               No              I am not sure            No   \n",
       "3                     I don't know              I am not sure  I don't know   \n",
       "4                              Yes                        Yes            No   \n",
       "\n",
       "      resources anonymity_protected                asking_leave  ...  \\\n",
       "0            No        I don't know                   Very easy  ...   \n",
       "1           Yes                 Yes               Somewhat easy  ...   \n",
       "2            No        I don't know  Neither easy nor difficult  ...   \n",
       "3  I don't know        I don't know                I don't know  ...   \n",
       "4            No                  No  Neither easy nor difficult  ...   \n",
       "\n",
       "  interference_well_treated interference_badly_treated age  gender  \\\n",
       "0      Not applicable to me       Not applicable to me  39    Male   \n",
       "1                    Rarely                  Sometimes  29    male   \n",
       "2      Not applicable to me       Not applicable to me  38   Male    \n",
       "3                 Sometimes                  Sometimes  43    male   \n",
       "4                 Sometimes                  Sometimes  43  Female   \n",
       "\n",
       "               country_life US state_life              country_work  \\\n",
       "0            United Kingdom          None            United Kingdom   \n",
       "1  United States of America      Illinois  United States of America   \n",
       "2            United Kingdom          None            United Kingdom   \n",
       "3            United Kingdom          None            United Kingdom   \n",
       "4  United States of America      Illinois  United States of America   \n",
       "\n",
       "  US state_work                                      work_position remote_work  \n",
       "0          None                                 Back-end Developer   Sometimes  \n",
       "1      Illinois             Back-end Developer|Front-end Developer       Never  \n",
       "2          None                                 Back-end Developer      Always  \n",
       "3          None                               Supervisor/Team Lead   Sometimes  \n",
       "4      Illinois  Executive Leadership|Supervisor/Team Lead|Dev ...   Sometimes  \n",
       "\n",
       "[5 rows x 58 columns]"
      ]
     },
     "execution_count": 142,
     "metadata": {},
     "output_type": "execute_result"
    }
   ],
   "source": [
    "df.head()"
   ]
  },
  {
   "cell_type": "code",
   "execution_count": 195,
   "id": "0090ba3c",
   "metadata": {},
   "outputs": [
    {
     "data": {
      "text/plain": [
       "Index(['self_employed', 'nb_employees', 'tech company', 'role',\n",
       "       'healthcare_coverage', 'options_mental_health_care', 'mh_discuss',\n",
       "       'resources', 'anonymity_protected', 'asking_leave', 'discuss_mental',\n",
       "       'discuss_physical', 'discuss_coworkers', 'discuss_supervisor',\n",
       "       'mental_vs_physical', 'negative_csqs_for_others',\n",
       "       'coverage_for_mental_issues', 'resources_for_help',\n",
       "       'if_yes_reveal_clients', 'if_revealed_negative_impact_client',\n",
       "       'if_yes_reveal_coworkers', 'if_revealed_coworkers_negative_impact',\n",
       "       'productivity', 'percentage_of_work_time_affected',\n",
       "       'previous employers', 'mental_health_benefits_prev', 'options_prev',\n",
       "       'mh_discuss_prev', 'respurces_for_help_prev',\n",
       "       'anonymity_protected_prev', 'discuss_mental_prev',\n",
       "       'discuss_physical_prev', 'discuss_coworkers_prev',\n",
       "       'discuss_supervisor_prev', 'mental_vs_physical_prev',\n",
       "       'negative_csqs_for_others_prev', 'physical_potential_employer',\n",
       "       'mental_potential_employer', 'identification', 'share_with_coworkers',\n",
       "       'share_with_family_friends', 'bad_response',\n",
       "       'fear_through_bad_response', 'family_history', 'past_mental_disorder',\n",
       "       'current_mental_disorder', 'diagnosis', 'treatment',\n",
       "       'interference_well_treated', 'interference_badly_treated', 'age',\n",
       "       'gender', 'country_life', 'US state_life', 'country_work',\n",
       "       'US state_work', 'work_position', 'remote_work'],\n",
       "      dtype='object')"
      ]
     },
     "execution_count": 195,
     "metadata": {},
     "output_type": "execute_result"
    }
   ],
   "source": [
    "df.columns"
   ]
  },
  {
   "cell_type": "code",
   "execution_count": null,
   "id": "ec7808bd",
   "metadata": {},
   "outputs": [],
   "source": [
    "# Traitement  particulier des colonnes Age et Gender"
   ]
  },
  {
   "cell_type": "code",
   "execution_count": null,
   "id": "9615c96d",
   "metadata": {},
   "outputs": [],
   "source": []
  },
  {
   "cell_type": "code",
   "execution_count": 196,
   "id": "60dc64fc",
   "metadata": {},
   "outputs": [],
   "source": [
    "# Gender\n",
    "# Mets en majuscules\n",
    "df[\"gender\"]=df[\"gender\"].str.upper()"
   ]
  },
  {
   "cell_type": "code",
   "execution_count": 197,
   "id": "d07bffaa",
   "metadata": {},
   "outputs": [],
   "source": [
    "# Enlève les espaces à droite et à gauche\n",
    "df[\"gender\"]=df[\"gender\"].str.rstrip()\n",
    "df[\"gender\"]=df[\"gender\"].str.lstrip()"
   ]
  },
  {
   "cell_type": "code",
   "execution_count": 198,
   "id": "c9ec9904",
   "metadata": {},
   "outputs": [],
   "source": [
    "df['gender'].replace(['NEUTER', 'AGENDER', 'ANDROGYNE','GENDERQUEER',\n",
    "            'FLUID',  'ENBY', 'NAH','NON-BINARY','QUEER/SHE/THEY','QUEER'], 'UNKNOWN',inplace=True)\n",
    "df['gender'].replace(['NONBINARY', 'HUMAN', 'UNICORN','NONE OF YOUR BUSINESS',\n",
    "            'MTF',  'GENDERFLUID', 'OTHER','ANDROGYNOUS','BIGENDER','AFAB','GENDERFLUX DEMI-GIRL'], 'UNKNOWN',inplace=True)\n"
   ]
  },
  {
   "cell_type": "code",
   "execution_count": 199,
   "id": "bd433830",
   "metadata": {},
   "outputs": [],
   "source": [
    "df[\"gender\"] = df[\"gender\"].apply(lambda x : \"FEMALE\" if \"FEM\" in x else x)\n",
    "df[\"gender\"] = df[\"gender\"].apply(lambda x : \"FEMALE\" if \"WOMAN\" in x else x)\n",
    "df[\"gender\"] = df[\"gender\"].apply(lambda x : \"MALE\" if \"A MAN\" in x else x)"
   ]
  },
  {
   "cell_type": "code",
   "execution_count": 200,
   "id": "fb163e18",
   "metadata": {},
   "outputs": [
    {
     "data": {
      "text/plain": [
       "MALE                 874\n",
       "FEMALE               283\n",
       "M                    165\n",
       "F                     61\n",
       "UNKNOWN               27\n",
       "MAN                    5\n",
       "CIS MALE               3\n",
       "MALE (CIS)             2\n",
       "TRANSITIONED, M2F      1\n",
       "MALE.                  1\n",
       "FM                     1\n",
       "NB MASCULINE           1\n",
       "SEX IS MALE            1\n",
       "MALR                   1\n",
       "DUDE                   1\n",
       "MAIL                   1\n",
       "M|                     1\n",
       "MALE/GENDERQUEER       1\n",
       "MALE (TRANS, FTM)      1\n",
       "CISDUDE                1\n",
       "CIS MAN                1\n",
       "Name: gender, dtype: int64"
      ]
     },
     "execution_count": 200,
     "metadata": {},
     "output_type": "execute_result"
    }
   ],
   "source": [
    "df['gender'].value_counts()"
   ]
  },
  {
   "cell_type": "code",
   "execution_count": 201,
   "id": "17eff01e",
   "metadata": {},
   "outputs": [],
   "source": [
    "df['gender'].replace(['M', 'MAN', 'CIS MALE','MALE (CIS)',\n",
    "            'CISDUDE',  'MALE (TRANS, FTM)', 'MALE/GENDERQUEER','M|','MAIL'], 'MALE',inplace=True)\n",
    "df['gender'].replace(['MALE.', 'NB MASCULINE', 'SEX IS MALE','MALR',\n",
    "            'DUDE',  'CIS MAN'], 'MALE',inplace=True)\n",
    "df['gender'].replace(['F', 'FM', 'TRANSITIONED, M2F',''], 'FEMALE',inplace=True)"
   ]
  },
  {
   "cell_type": "code",
   "execution_count": 202,
   "id": "5d4047c1",
   "metadata": {},
   "outputs": [
    {
     "data": {
      "text/plain": [
       "MALE       1060\n",
       "FEMALE      346\n",
       "UNKNOWN      27\n",
       "Name: gender, dtype: int64"
      ]
     },
     "execution_count": 202,
     "metadata": {},
     "output_type": "execute_result"
    }
   ],
   "source": [
    "df['gender'].value_counts()"
   ]
  },
  {
   "cell_type": "code",
   "execution_count": null,
   "id": "fe79c1a9",
   "metadata": {},
   "outputs": [],
   "source": []
  },
  {
   "cell_type": "code",
   "execution_count": 36,
   "id": "cc3b7609",
   "metadata": {},
   "outputs": [
    {
     "data": {
      "text/plain": [
       "0"
      ]
     },
     "execution_count": 36,
     "metadata": {},
     "output_type": "execute_result"
    }
   ],
   "source": [
    "# age => pas de valeur manquante\n",
    "df['age'].isna().sum()"
   ]
  },
  {
   "cell_type": "code",
   "execution_count": 203,
   "id": "7d8d5b8a",
   "metadata": {},
   "outputs": [
    {
     "data": {
      "image/png": "[encoded data removed]",
      "text/plain": [
       "<Figure size 640x480 with 1 Axes>"
      ]
     },
     "metadata": {},
     "output_type": "display_data"
    }
   ],
   "source": [
    "plt.boxplot([df.age])\n",
    "plt.ylabel('age')\n",
    "plt.title('Boxplot du champ age');"
   ]
  },
  {
   "cell_type": "code",
   "execution_count": 35,
   "id": "949d5f07",
   "metadata": {},
   "outputs": [
    {
     "data": {
      "text/plain": [
       "323"
      ]
     },
     "execution_count": 35,
     "metadata": {},
     "output_type": "execute_result"
    }
   ],
   "source": [
    "df['age'].max()"
   ]
  },
  {
   "cell_type": "code",
   "execution_count": 36,
   "id": "2a4cf944",
   "metadata": {},
   "outputs": [
    {
     "data": {
      "text/plain": [
       "3"
      ]
     },
     "execution_count": 36,
     "metadata": {},
     "output_type": "execute_result"
    }
   ],
   "source": [
    "df['age'].min()"
   ]
  },
  {
   "cell_type": "code",
   "execution_count": 204,
   "id": "ceaa2c68",
   "metadata": {},
   "outputs": [
    {
     "data": {
      "text/plain": [
       "33.0"
      ]
     },
     "metadata": {},
     "output_type": "display_data"
    }
   ],
   "source": [
    "#remplacement des outliers par la médiane\n",
    "median=df['age'].median()\n",
    "display(median) # 33 ans"
   ]
  },
  {
   "cell_type": "code",
   "execution_count": 205,
   "id": "7645f0a0",
   "metadata": {},
   "outputs": [],
   "source": [
    "df['age'].replace(to_replace=[3,323],value=33,inplace=True)"
   ]
  },
  {
   "cell_type": "code",
   "execution_count": 64,
   "id": "206a98ec",
   "metadata": {},
   "outputs": [
    {
     "data": {
      "text/plain": [
       "99"
      ]
     },
     "execution_count": 64,
     "metadata": {},
     "output_type": "execute_result"
    }
   ],
   "source": [
    "df['age'].max()"
   ]
  },
  {
   "cell_type": "code",
   "execution_count": 65,
   "id": "622a003e",
   "metadata": {},
   "outputs": [
    {
     "data": {
      "text/plain": [
       "15"
      ]
     },
     "execution_count": 65,
     "metadata": {},
     "output_type": "execute_result"
    }
   ],
   "source": [
    "df['age'].min()"
   ]
  },
  {
   "cell_type": "code",
   "execution_count": null,
   "id": "840c326f",
   "metadata": {},
   "outputs": [],
   "source": [
    "## Valeurs qui n'ont pas besoin d'être changées car ce sont déjà des valeurs 0/1"
   ]
  },
  {
   "cell_type": "code",
   "execution_count": 157,
   "id": "fbcfa918",
   "metadata": {},
   "outputs": [
    {
     "data": {
      "text/plain": [
       "0    1146\n",
       "1     287\n",
       "Name: self_employed, dtype: int64"
      ]
     },
     "execution_count": 157,
     "metadata": {},
     "output_type": "execute_result"
    }
   ],
   "source": [
    "df['self_employed'].value_counts()"
   ]
  },
  {
   "cell_type": "code",
   "execution_count": 158,
   "id": "01f0f7e3",
   "metadata": {},
   "outputs": [
    {
     "data": {
      "text/plain": [
       "1    839\n",
       "0    594\n",
       "Name: treatment, dtype: int64"
      ]
     },
     "execution_count": 158,
     "metadata": {},
     "output_type": "execute_result"
    }
   ],
   "source": [
    "df['treatment'].value_counts()"
   ]
  },
  {
   "cell_type": "code",
   "execution_count": 159,
   "id": "baf1cd7f",
   "metadata": {},
   "outputs": [
    {
     "data": {
      "text/plain": [
       "1.0    883\n",
       "0.0    550\n",
       "Name: tech company, dtype: int64"
      ]
     },
     "execution_count": 159,
     "metadata": {},
     "output_type": "execute_result"
    }
   ],
   "source": [
    "df['tech company'].value_counts()"
   ]
  },
  {
   "cell_type": "code",
   "execution_count": 160,
   "id": "f0ca700e",
   "metadata": {},
   "outputs": [
    {
     "data": {
      "text/plain": [
       "0.0    1185\n",
       "1.0     248\n",
       "Name: role, dtype: int64"
      ]
     },
     "execution_count": 160,
     "metadata": {},
     "output_type": "execute_result"
    }
   ],
   "source": [
    "df['role'].value_counts()"
   ]
  },
  {
   "cell_type": "code",
   "execution_count": null,
   "id": "c22a10a6",
   "metadata": {},
   "outputs": [],
   "source": []
  },
  {
   "cell_type": "code",
   "execution_count": null,
   "id": "def078d4",
   "metadata": {},
   "outputs": [],
   "source": [
    "#Certaines colonnes peuvent bénéficier d'un ordinal encoding car il y a bien une notion d'ordre dans leurs valeurs"
   ]
  },
  {
   "cell_type": "code",
   "execution_count": 161,
   "id": "45a56531",
   "metadata": {},
   "outputs": [
    {
     "data": {
      "text/plain": [
       "26-100            579\n",
       "More than 1000    256\n",
       "100-500           248\n",
       "6-25              210\n",
       "500-1000           80\n",
       "1-5                60\n",
       "Name: nb_employees, dtype: int64"
      ]
     },
     "execution_count": 161,
     "metadata": {},
     "output_type": "execute_result"
    }
   ],
   "source": [
    "df['nb_employees'].value_counts()"
   ]
  },
  {
   "cell_type": "code",
   "execution_count": 206,
   "id": "5a7cff62",
   "metadata": {},
   "outputs": [],
   "source": [
    "df['nb_employees'] = df['nb_employees'].map({'1-5':0,\n",
    "                             '6-25':1,\n",
    "                             '26-100':2, \n",
    "                             '100-500':3,\n",
    "                             '500-1000':4,\n",
    "                             'More than 1000':5})"
   ]
  },
  {
   "cell_type": "code",
   "execution_count": 163,
   "id": "525ea9e5",
   "metadata": {},
   "outputs": [
    {
     "data": {
      "text/plain": [
       "0       2\n",
       "1       1\n",
       "2       1\n",
       "3       2\n",
       "4       1\n",
       "       ..\n",
       "1428    2\n",
       "1429    2\n",
       "1430    3\n",
       "1431    3\n",
       "1432    3\n",
       "Name: nb_employees, Length: 1433, dtype: int64"
      ]
     },
     "execution_count": 163,
     "metadata": {},
     "output_type": "execute_result"
    }
   ],
   "source": [
    "df['nb_employees'] "
   ]
  },
  {
   "cell_type": "code",
   "execution_count": 164,
   "id": "475f6a27",
   "metadata": {},
   "outputs": [
    {
     "data": {
      "text/plain": [
       "1-25%      1321\n",
       "26-50%       72\n",
       "51-75%       26\n",
       "76-100%      14\n",
       "Name: percentage_of_work_time_affected, dtype: int64"
      ]
     },
     "execution_count": 164,
     "metadata": {},
     "output_type": "execute_result"
    }
   ],
   "source": [
    "df['percentage_of_work_time_affected'].value_counts()"
   ]
  },
  {
   "cell_type": "code",
   "execution_count": 207,
   "id": "79fadbd0",
   "metadata": {},
   "outputs": [],
   "source": [
    "df['percentage_of_work_time_affected']=df['percentage_of_work_time_affected'].map({'1-25%':0,\n",
    "                             '26-50%':1,\n",
    "                             '51-75%':2, \n",
    "                             '76-100%':3})"
   ]
  },
  {
   "cell_type": "code",
   "execution_count": 1,
   "id": "6fcdac46",
   "metadata": {},
   "outputs": [],
   "source": [
    "#df.to_csv('dataframe_OK.csv')\n",
    "import pandas as pd\n",
    "df = pd.read_csv('dataframe_OK.csv')\n",
    "df = df.drop('Unnamed: 0', axis=1)\n",
    "\n",
    "#data=df.loc[:,['country_life','country_work','US state_life','US state_work','diagnosis']]\n",
    "\n",
    "#data.to_csv('countries and states.csv')"
   ]
  },
  {
   "cell_type": "code",
   "execution_count": 15,
   "id": "1a11bdd1",
   "metadata": {},
   "outputs": [
    {
     "data": {
      "text/plain": [
       "Index(['self_employed', 'nb_employees', 'tech company', 'role',\n",
       "       'healthcare_coverage', 'options_mental_health_care', 'mh_discuss',\n",
       "       'resources', 'anonymity_protected', 'asking_leave', 'discuss_mental',\n",
       "       'discuss_physical', 'discuss_coworkers', 'discuss_supervisor',\n",
       "       'mental_vs_physical', 'negative_csqs_for_others',\n",
       "       'coverage_for_mental_issues', 'resources_for_help',\n",
       "       'if_yes_reveal_clients', 'if_revealed_negative_impact_client',\n",
       "       'if_yes_reveal_coworkers', 'if_revealed_coworkers_negative_impact',\n",
       "       'productivity', 'percentage_of_work_time_affected',\n",
       "       'previous employers', 'mental_health_benefits_prev', 'options_prev',\n",
       "       'mh_discuss_prev', 'respurces_for_help_prev',\n",
       "       'anonymity_protected_prev', 'discuss_mental_prev',\n",
       "       'discuss_physical_prev', 'discuss_coworkers_prev',\n",
       "       'discuss_supervisor_prev', 'mental_vs_physical_prev',\n",
       "       'negative_csqs_for_others_prev', 'physical_potential_employer',\n",
       "       'mental_potential_employer', 'identification', 'share_with_coworkers',\n",
       "       'share_with_family_friends', 'bad_response',\n",
       "       'fear_through_bad_response', 'family_history', 'past_mental_disorder',\n",
       "       'current_mental_disorder', 'diagnosis', 'treatment',\n",
       "       'interference_well_treated', 'interference_badly_treated', 'age',\n",
       "       'gender', 'country_life', 'US state_life', 'country_work',\n",
       "       'US state_work', 'work_position', 'remote_work'],\n",
       "      dtype='object')"
      ]
     },
     "execution_count": 15,
     "metadata": {},
     "output_type": "execute_result"
    }
   ],
   "source": [
    "df.columns"
   ]
  },
  {
   "cell_type": "code",
   "execution_count": 15,
   "id": "254a641a",
   "metadata": {},
   "outputs": [],
   "source": [
    "#Séparation cible et le reste\n",
    "target = df['diagnosis']\n",
    "feats=df.drop('diagnosis', axis=1)"
   ]
  },
  {
   "cell_type": "code",
   "execution_count": 16,
   "id": "4592688c",
   "metadata": {},
   "outputs": [],
   "source": [
    "#train_test_split\n",
    "from sklearn.model_selection import train_test_split\n",
    "X_train, X_test, y_train, y_test = train_test_split(feats, target, test_size = 0.2, random_state = 42)"
   ]
  },
  {
   "cell_type": "code",
   "execution_count": 17,
   "id": "6cfce93f",
   "metadata": {},
   "outputs": [],
   "source": [
    "#Label encoding pour la cible\n",
    "from sklearn.preprocessing import LabelEncoder\n",
    "labelencoder = LabelEncoder()\n",
    "y_train=labelencoder.fit_transform(y_train)\n",
    "y_test=labelencoder.fit_transform(y_test)"
   ]
  },
  {
   "cell_type": "code",
   "execution_count": null,
   "id": "16f62d92",
   "metadata": {},
   "outputs": [],
   "source": [
    "################################################################"
   ]
  },
  {
   "cell_type": "code",
   "execution_count": 18,
   "id": "ff00143f",
   "metadata": {},
   "outputs": [],
   "source": [
    "#séparation test et train en variables numériques et catégorielles\n",
    "var_num_train=X_train.select_dtypes(include=['int', 'float'])\n",
    "var_num_test=X_test.select_dtypes(include=['int', 'float'])\n",
    "var_cat_train=X_train.select_dtypes(include=['O'])\n",
    "var_cat_test=X_test.select_dtypes(include=['O'])"
   ]
  },
  {
   "cell_type": "code",
   "execution_count": 19,
   "id": "d8d639ad",
   "metadata": {},
   "outputs": [],
   "source": [
    "#OHE\n",
    "from sklearn.preprocessing import OneHotEncoder\n",
    "ohe = OneHotEncoder(handle_unknown='ignore' ,sparse=False,max_categories=10)\n",
    "var_cat_train_o = ohe.fit_transform(var_cat_train)\n",
    "var_cat_test_o = ohe.transform(var_cat_test)"
   ]
  },
  {
   "cell_type": "code",
   "execution_count": 20,
   "id": "ae6a5750",
   "metadata": {},
   "outputs": [],
   "source": [
    "#Reconstruction of X_train et X_test après OHE\n",
    "var_cat_train=pd.DataFrame(var_cat_train_o,columns=ohe.get_feature_names_out(var_cat_train.columns), index=var_cat_train.index)\n",
    "X_train=pd.concat([var_cat_train,var_num_train], axis=1)\n",
    "var_cat_test=pd.DataFrame(var_cat_test_o,columns=ohe.get_feature_names_out(var_cat_test.columns), index=var_cat_test.index)\n",
    "X_test=pd.concat([var_cat_test,var_num_test], axis=1)"
   ]
  },
  {
   "cell_type": "code",
   "execution_count": null,
   "id": "56bc2dbc",
   "metadata": {},
   "outputs": [],
   "source": []
  },
  {
   "cell_type": "code",
   "execution_count": null,
   "id": "78d5b2ae",
   "metadata": {},
   "outputs": [],
   "source": [
    "#Modèles"
   ]
  },
  {
   "cell_type": "code",
   "execution_count": null,
   "id": "117e68f8",
   "metadata": {},
   "outputs": [],
   "source": []
  },
  {
   "cell_type": "code",
   "execution_count": 21,
   "id": "76b622f2",
   "metadata": {},
   "outputs": [
    {
     "name": "stdout",
     "output_type": "stream",
     "text": [
      "Score sur ensemble train 0.9502617801047121\n",
      "Score sur ensemble test 0.8466898954703833\n"
     ]
    }
   ],
   "source": [
    "# Logistic Regression\n",
    "\n",
    "from sklearn.preprocessing import StandardScaler\n",
    "scale=StandardScaler()\n",
    "\n",
    "xtrainscale=scale.fit_transform(X_train)\n",
    "xtestscale= scale.transform(X_test)\n",
    "\n",
    "\n",
    "from sklearn.linear_model import LogisticRegression\n",
    "reglog = LogisticRegression()\n",
    "reglog.fit(xtrainscale, y_train)\n",
    "y_pred = reglog.predict(xtestscale)\n",
    "print('Score sur ensemble train', reglog.score(xtrainscale, y_train))\n",
    "print('Score sur ensemble test', reglog.score(xtestscale, y_test))"
   ]
  },
  {
   "cell_type": "code",
   "execution_count": null,
   "id": "0678654e",
   "metadata": {},
   "outputs": [],
   "source": []
  },
  {
   "cell_type": "code",
   "execution_count": 22,
   "id": "dccc94f3",
   "metadata": {},
   "outputs": [
    {
     "name": "stdout",
     "output_type": "stream",
     "text": [
      "Score sur ensemble train 1.0\n",
      "Score sur ensemble test 0.8815331010452961\n"
     ]
    }
   ],
   "source": [
    "# Decision Tree\n",
    "\n",
    "from sklearn import tree\n",
    "clf = tree.DecisionTreeClassifier()\n",
    "clf.fit(X_train, y_train)\n",
    "y_pred = clf.predict(X_test)\n",
    "print('Score sur ensemble train', clf.score(X_train, y_train))\n",
    "print('Score sur ensemble test',clf.score(X_test, y_test))"
   ]
  },
  {
   "cell_type": "code",
   "execution_count": null,
   "id": "5c4499db",
   "metadata": {},
   "outputs": [],
   "source": []
  },
  {
   "cell_type": "code",
   "execution_count": 23,
   "id": "0852f70c",
   "metadata": {},
   "outputs": [
    {
     "name": "stdout",
     "output_type": "stream",
     "text": [
      "Score sur ensemble train 1.0\n",
      "Score sur ensemble test 0.8850174216027874\n"
     ]
    }
   ],
   "source": [
    "#Random Forest Classifier\n",
    "from sklearn.ensemble import RandomForestClassifier\n",
    "\n",
    "rd_clf = RandomForestClassifier()\n",
    "rd_clf.fit(X_train, y_train)\n",
    "\n",
    "print('Score sur ensemble train', rd_clf.score(X_train, y_train))\n",
    "print('Score sur ensemble test', rd_clf.score(X_test, y_test))"
   ]
  },
  {
   "cell_type": "code",
   "execution_count": null,
   "id": "f11bc691",
   "metadata": {},
   "outputs": [],
   "source": []
  },
  {
   "cell_type": "code",
   "execution_count": 120,
   "id": "6bc773e4",
   "metadata": {},
   "outputs": [],
   "source": [
    "#Gradient Boosting Classifier"
   ]
  },
  {
   "cell_type": "code",
   "execution_count": 24,
   "id": "cf128ddc",
   "metadata": {},
   "outputs": [
    {
     "name": "stdout",
     "output_type": "stream",
     "text": [
      "Score sur ensemble train 0.9694589877835951\n",
      "Score sur ensemble test 0.8780487804878049\n",
      "La matrice de confusion est:\n"
     ]
    },
    {
     "data": {
      "text/plain": [
       "array([[117,  23],\n",
       "       [ 12, 135]], dtype=int64)"
      ]
     },
     "execution_count": 24,
     "metadata": {},
     "output_type": "execute_result"
    }
   ],
   "source": [
    "from sklearn.ensemble import GradientBoostingClassifier\n",
    "\n",
    "rd_clf = GradientBoostingClassifier()\n",
    "rd_clf.fit(X_train, y_train)\n",
    "\n",
    "print('Score sur ensemble train', rd_clf.score(X_train, y_train))\n",
    "print('Score sur ensemble test', rd_clf.score(X_test, y_test))\n",
    "\n",
    "y_pred=rd_clf.predict(X_test)\n",
    "from sklearn.metrics import confusion_matrix\n",
    "\n",
    "print(\"La matrice de confusion est:\")\n",
    "confusion_matrix(y_test, y_pred)"
   ]
  },
  {
   "cell_type": "code",
   "execution_count": 25,
   "id": "2571cc63",
   "metadata": {},
   "outputs": [],
   "source": [
    "#Recherche des meilleurs hyperparamètres\n",
    "parametres = {\n",
    "     'max_depth': [3,5,7,10, None],\n",
    "     'n_estimators': [100, 200, 500, 1000, 1500]}"
   ]
  },
  {
   "cell_type": "code",
   "execution_count": 26,
   "id": "92f635ff",
   "metadata": {},
   "outputs": [
    {
     "name": "stdout",
     "output_type": "stream",
     "text": [
      "{'max_depth': 3, 'n_estimators': 100}\n"
     ]
    }
   ],
   "source": [
    "from sklearn import model_selection\n",
    "from sklearn.model_selection import GridSearchCV\n",
    "clf = GradientBoostingClassifier()\n",
    "grid_clf = model_selection.GridSearchCV(estimator=clf, param_grid=parametres)\n",
    "grille=grid_clf.fit(X_train, y_train)\n",
    "\n",
    "print(grid_clf.best_params_)"
   ]
  },
  {
   "cell_type": "code",
   "execution_count": 29,
   "id": "443122d4",
   "metadata": {},
   "outputs": [
    {
     "name": "stdout",
     "output_type": "stream",
     "text": [
      "Score sur ensemble train 0.9694589877835951\n",
      "Score sur ensemble test 0.8780487804878049\n",
      "La matrice de confusion est:\n"
     ]
    },
    {
     "data": {
      "text/plain": [
       "array([[117,  23],\n",
       "       [ 12, 135]], dtype=int64)"
      ]
     },
     "execution_count": 29,
     "metadata": {},
     "output_type": "execute_result"
    }
   ],
   "source": [
    "#Utilisation des meilleurs hyperparamètres\n",
    "rd_clf = GradientBoostingClassifier(max_depth = 3, n_estimators = 100)\n",
    "rd_clf.fit(X_train, y_train)\n",
    "\n",
    "print('Score sur ensemble train', rd_clf.score(X_train, y_train))\n",
    "print('Score sur ensemble test', rd_clf.score(X_test, y_test))\n",
    "\n",
    "y_pred=rd_clf.predict(X_test)\n",
    "from sklearn.metrics import confusion_matrix\n",
    "\n",
    "print(\"La matrice de confusion est:\")\n",
    "confusion_matrix(y_test, y_pred)"
   ]
  },
  {
   "cell_type": "code",
   "execution_count": 13,
   "id": "fa7f951d",
   "metadata": {},
   "outputs": [],
   "source": [
    "#Feature importance\n",
    "importances = rd_clf.feature_importances_\n",
    "importances_dict = dict(zip(X_train.columns, importances))\n"
   ]
  },
  {
   "cell_type": "code",
   "execution_count": 14,
   "id": "50a13472",
   "metadata": {},
   "outputs": [],
   "source": [
    "original_features = ['self_employed', 'nb_employees', 'tech company', 'role','percentage_of_work_time_affected', 'previous employers', 'age', 'treatment']\n",
    "original_importances = [importances_dict[feature] for feature in original_features]\n",
    "original_importances_dic = dict(zip(original_features,original_importances))\n"
   ]
  },
  {
   "cell_type": "code",
   "execution_count": 15,
   "id": "0f3516e9",
   "metadata": {},
   "outputs": [],
   "source": [
    "# Get the average feature importances for each encoded feature\n",
    "original_features = ['previous employers','self_employed', 'nb_employees', 'tech company', 'role','percentage_of_work_time_affected', 'previous employers', 'age', 'treatment']\n",
    "encoded_features = [feature for feature in X_train.columns if feature not in original_features]\n",
    "encoded_feature_importances = {}\n",
    "\n",
    "for feature in encoded_features:\n",
    "    substring = feature.split('_')\n",
    "    prefix = \"_\".join(substring[:-1])\n",
    "    if prefix in encoded_feature_importances:\n",
    "        encoded_feature_importances[prefix].append(importances[X_train.columns.get_loc(feature)])\n",
    "    else:\n",
    "        encoded_feature_importances[prefix] = [importances[X_train.columns.get_loc(feature)]]\n",
    "\n",
    "averaged_importances = {prefix: sum(importances)/len(importances) for prefix, importances in encoded_feature_importances.items()}\n",
    "\n",
    "#######################\"\"\n",
    "#Ajout de original_importances et averaged_importances\n",
    "total_importances = averaged_importances | original_importances_dic\n",
    "\n",
    "############################################################\n",
    "# Correction des clés avec '_infrequent' à la fin\n",
    "for key in list(total_importances.keys()):\n",
    "    if '_infrequent' in key:\n",
    "        new_key = key.replace('_infrequent', '')\n",
    "        total_importances[new_key] = total_importances.pop(key)\n",
    "\n",
    "#########################################################\n",
    "# Sort the feature importances in descending order\n",
    "\n",
    "total_importances_sorted = sorted(zip(total_importances.values(), total_importances.keys()), reverse=True)\n"
   ]
  },
  {
   "cell_type": "code",
   "execution_count": 16,
   "id": "7b4c725e",
   "metadata": {},
   "outputs": [
    {
     "data": {
      "text/plain": [
       "[(0.27324630063561733, 'treatment'),\n",
       " (0.16325661361974556, 'past_mental_disorder'),\n",
       " (0.025372163983198966, 'current_mental_disorder'),\n",
       " (0.010814876943666922, 'interference_well_treated'),\n",
       " (0.008537362669117152, 'age'),\n",
       " (0.0022272624637163017, 'US state_life'),\n",
       " (0.0016818253376416701, 'remote_work'),\n",
       " (0.0011905711919248149, 'negative_csqs_for_others_prev'),\n",
       " (0.0011835992800410626, 'percentage_of_work_time_affected'),\n",
       " (0.0011182526138380862, 'share_with_coworkers'),\n",
       " (0.001112868797418275, 'anonymity_protected_prev'),\n",
       " (0.0011036321170654008, 'family_history'),\n",
       " (0.0010262984099491902, 'fear_through_bad_response'),\n",
       " (0.0010251916983000206, 'role'),\n",
       " (0.0010171466134987395, 'work_position'),\n",
       " (0.0009641355515029947, 'discuss_coworkers_prev'),\n",
       " (0.0009516442023920458, 'options_prev'),\n",
       " (0.0007519520641934784, 'if_yes_reveal_clients'),\n",
       " (0.0006402834034850863, 'anonymity_protected'),\n",
       " (0.0006380657443878647, 'discuss_mental_prev'),\n",
       " (0.0006347112311711073, 'bad_response'),\n",
       " (0.0006219138992457964, 'physical_potential_employer'),\n",
       " (0.0006200036567093656, 'mental_health_benefits_prev'),\n",
       " (0.0005685632450583829, 'identification'),\n",
       " (0.0005659170682308464, 'share_with_family_friends'),\n",
       " (0.0005344711040475883, 'tech company'),\n",
       " (0.0005247743878170608, 'nb_employees'),\n",
       " (0.00043090881575417794, 'mental_vs_physical_prev'),\n",
       " (0.0004198027329137429, 'interference_badly_treated'),\n",
       " (0.00039114495320368824, 'discuss_supervisor'),\n",
       " (0.0003748282768187436, 'country_life'),\n",
       " (0.000368310376233419, 'if_yes_reveal_coworkers'),\n",
       " (0.00035886877588023396, 'respurces_for_help_prev'),\n",
       " (0.0003510999705903458, 'resources_for_help'),\n",
       " (0.00029756322736557194, 'asking_leave'),\n",
       " (0.0002970361871199673, 'mental_potential_employer'),\n",
       " (0.0002783581072568885, 'productivity'),\n",
       " (0.00026218925127281166, 'US state_work'),\n",
       " (0.0002454367371176863, 'options_mental_health_care'),\n",
       " (0.00024001732566976568, 'if_revealed_negative_impact_client'),\n",
       " (0.00023633110136574457, 'discuss_supervisor_prev'),\n",
       " (0.00023152189737323065, 'mental_vs_physical'),\n",
       " (0.00018414635924713667, 'healthcare_coverage'),\n",
       " (0.00018389697901649213, 'mh_discuss_prev'),\n",
       " (0.00015762879333068556, 'discuss_mental'),\n",
       " (8.639008820148303e-05, 'if_revealed_coworkers_negative_impact'),\n",
       " (8.273706375009047e-05, 'negative_csqs_for_others'),\n",
       " (4.606252909377129e-05, 'mh_discuss'),\n",
       " (3.722758657187752e-05, 'resources'),\n",
       " (0.0, 'self_employed'),\n",
       " (0.0, 'previous employers'),\n",
       " (0.0, 'gender'),\n",
       " (0.0, 'discuss_physical_prev'),\n",
       " (0.0, 'discuss_physical'),\n",
       " (0.0, 'discuss_coworkers'),\n",
       " (0.0, 'coverage_for_mental'),\n",
       " (0.0, 'country_work')]"
      ]
     },
     "execution_count": 16,
     "metadata": {},
     "output_type": "execute_result"
    }
   ],
   "source": [
    "total_importances_sorted"
   ]
  },
  {
   "cell_type": "code",
   "execution_count": 18,
   "id": "36c05074",
   "metadata": {},
   "outputs": [
    {
     "name": "stdout",
     "output_type": "stream",
     "text": [
      "The 15 most important features are:\n",
      "treatment\n",
      "past_mental_disorder\n",
      "current_mental_disorder\n",
      "interference_well_treated\n",
      "age\n",
      "US state_life\n",
      "remote_work\n",
      "percentage_of_work_time_affected\n",
      "negative_csqs_for_others_prev\n",
      "share_with_coworkers\n",
      "discuss_coworkers_prev\n",
      "role\n",
      "anonymity_protected_prev\n",
      "family_history\n",
      "fear_through_bad_response\n"
     ]
    }
   ],
   "source": [
    "# Select the top 15 features\n",
    "   \n",
    "top_15_features = [feature for importance, feature in total_importances_sorted[:15]]\n",
    "\n",
    "print(\"The 15 most important features are:\")\n",
    "for feature in top_15_features:\n",
    "    print(feature)"
   ]
  },
  {
   "cell_type": "code",
   "execution_count": null,
   "id": "a4bb1c60",
   "metadata": {},
   "outputs": [],
   "source": []
  },
  {
   "cell_type": "code",
   "execution_count": null,
   "id": "97c56956",
   "metadata": {},
   "outputs": [],
   "source": [
    "#Suppression des colonnes trop évidentes qui prédisent le résultat à coup sûr################################################\n",
    "#'treatment'\n",
    "#'past_mental_disorder'\n",
    "#current_mental_disorder\n",
    "#interference_well_treated\n",
    "#interference_badly_treated"
   ]
  },
  {
   "cell_type": "code",
   "execution_count": 44,
   "id": "1c15fa9f",
   "metadata": {},
   "outputs": [],
   "source": [
    "df=pd.read_csv('dataframe_OK.csv')\n",
    "df = df.drop(['treatment','past_mental_disorder','current_mental_disorder','interference_well_treated',\n",
    "                     'interference_badly_treated','Unnamed: 0',\n",
    "              'if_yes_reveal_clients','if_yes_reveal_coworkers',\n",
    "             'if_revealed_negative_impact_client','if_revealed_coworkers_negative_impact'], axis=1)"
   ]
  },
  {
   "cell_type": "code",
   "execution_count": 45,
   "id": "d1847cd2",
   "metadata": {},
   "outputs": [],
   "source": [
    "#Séparation cible et le reste\n",
    "target = df['diagnosis']\n",
    "feats=df.drop('diagnosis', axis=1)\n",
    "X_train, X_test, y_train, y_test = train_test_split(feats, target, test_size = 0.2, random_state=42)\n",
    "#Label encoding pour la cible\n",
    "from sklearn.preprocessing import LabelEncoder\n",
    "labelencoder = LabelEncoder()\n",
    "y_train=labelencoder.fit_transform(y_train)\n",
    "y_test=labelencoder.fit_transform(y_test)"
   ]
  },
  {
   "cell_type": "code",
   "execution_count": 46,
   "id": "a3a0e0e8",
   "metadata": {},
   "outputs": [],
   "source": [
    "#séparation test et train en variables numériques et catégorielles\n",
    "var_num_train=X_train.select_dtypes(include=['int', 'float'])\n",
    "var_num_test=X_test.select_dtypes(include=['int', 'float'])\n",
    "var_cat_train=X_train.select_dtypes(include=['O'])\n",
    "var_cat_test=X_test.select_dtypes(include=['O'])\n",
    "#OHE\n",
    "from sklearn.preprocessing import OneHotEncoder\n",
    "ohe = OneHotEncoder(handle_unknown='ignore' ,sparse=False,max_categories=10)\n",
    "var_cat_train_o = ohe.fit_transform(var_cat_train)\n",
    "var_cat_test_o = ohe.transform(var_cat_test)\n",
    "#Reconstruction of X_train et X_test après OHE\n",
    "var_cat_train=pd.DataFrame(var_cat_train_o,columns=ohe.get_feature_names_out(var_cat_train.columns), index=var_cat_train.index)\n",
    "X_train=pd.concat([var_cat_train,var_num_train], axis=1)\n",
    "var_cat_test=pd.DataFrame(var_cat_test_o,columns=ohe.get_feature_names_out(var_cat_test.columns), index=var_cat_test.index)\n",
    "X_test=pd.concat([var_cat_test,var_num_test], axis=1)"
   ]
  },
  {
   "cell_type": "code",
   "execution_count": 48,
   "id": "10620e6a",
   "metadata": {},
   "outputs": [
    {
     "name": "stdout",
     "output_type": "stream",
     "text": [
      "Score sur ensemble train 0.8490401396160558\n",
      "Score sur ensemble test 0.7142857142857143\n"
     ]
    }
   ],
   "source": [
    "#Gradient Boosting Classifier\n",
    "rd_clf = GradientBoostingClassifier()\n",
    "rd_clf.fit(X_train, y_train)\n",
    "\n",
    "print('Score sur ensemble train', rd_clf.score(X_train, y_train))\n",
    "print('Score sur ensemble test', rd_clf.score(X_test, y_test))"
   ]
  },
  {
   "cell_type": "code",
   "execution_count": 42,
   "id": "b237ebac",
   "metadata": {},
   "outputs": [],
   "source": [
    "#Feature importance\n",
    "importances = rd_clf.feature_importances_\n",
    "importances_dict = dict(zip(X_train.columns, importances))\n",
    "original_features = ['previous employers','self_employed', 'nb_employees', 'tech company', 'role','percentage_of_work_time_affected', 'age']\n",
    "original_importances = [importances_dict[feature] for feature in original_features]\n",
    "original_importances_dic = dict(zip(original_features,original_importances))\n",
    "encoded_features = [feature for feature in X_train.columns if feature not in original_features]\n",
    "encoded_feature_importances = {}\n",
    "\n",
    "for feature in encoded_features:\n",
    "    substring = feature.split('_')\n",
    "    prefix = \"_\".join(substring[:-1])\n",
    "    if prefix in encoded_feature_importances:\n",
    "        encoded_feature_importances[prefix].append(importances[X_train.columns.get_loc(feature)])\n",
    "    else:\n",
    "        encoded_feature_importances[prefix] = [importances[X_train.columns.get_loc(feature)]]\n",
    "\n",
    "averaged_importances = {prefix: sum(importances)/len(importances) for prefix, importances in encoded_feature_importances.items()}\n",
    "\n",
    "#######################\"\"\n",
    "#Ajout de original_importances et averaged_importances\n",
    "total_importances = averaged_importances | original_importances_dic\n",
    "\n",
    "############################################################\n",
    "# Correction des clés avec '_infrequent' à la fin\n",
    "for key in list(total_importances.keys()):\n",
    "    if '_infrequent' in key:\n",
    "        new_key = key.replace('_infrequent', '')\n",
    "        total_importances[new_key] = total_importances.pop(key)\n",
    "\n",
    "#########################################################\n",
    "# Sort the feature importances in descending order\n",
    "\n",
    "total_importances_sorted = sorted(zip(total_importances.values(), total_importances.keys()), reverse=True)\n"
   ]
  },
  {
   "cell_type": "code",
   "execution_count": 43,
   "id": "3de17a17",
   "metadata": {},
   "outputs": [
    {
     "name": "stdout",
     "output_type": "stream",
     "text": [
      "The 15 most important features are:\n",
      "family_history                          0.08092\n",
      "age                                     0.04103\n",
      "percentage_of_work_time_affected        0.02296\n",
      "bad_response                            0.01537\n",
      "share_with_family_friends               0.01319\n",
      "nb_employees                            0.01245\n",
      "options_mental_health_care              0.01186\n",
      "gender                                  0.00883\n",
      "mental_health_benefits_prev             0.00758\n",
      "mh_discuss                              0.00625\n",
      "productivity                            0.00624\n",
      "resources_for_help                      0.00589\n",
      "country_life                            0.00538\n",
      "work_position                           0.00522\n",
      "options_prev                            0.00496\n"
     ]
    }
   ],
   "source": [
    "# Select the top 15 features\n",
    "   \n",
    "top_15_features = total_importances_sorted[:15]\n",
    "\n",
    "print(\"The 15 most important features are:\")\n",
    "\n",
    "for item in total_importances_sorted[:15]:\n",
    "    print(f\"{item[1]:<40}{item[0]:.5f}\")\n"
   ]
  },
  {
   "cell_type": "code",
   "execution_count": null,
   "id": "3d14f383",
   "metadata": {},
   "outputs": [],
   "source": []
  },
  {
   "cell_type": "code",
   "execution_count": null,
   "id": "7ab8fdb6",
   "metadata": {},
   "outputs": [],
   "source": [
    "#Questionnaire uniquement rempli des 15 questions plus la cible"
   ]
  },
  {
   "cell_type": "code",
   "execution_count": 2,
   "id": "9424c3ff",
   "metadata": {},
   "outputs": [],
   "source": [
    "data=df.loc[:, ['family_history',                          \n",
    "'age',                                  \n",
    "'percentage_of_work_time_affected',     \n",
    "'bad_response',                         \n",
    "'share_with_family_friends',              \n",
    "'nb_employees',                         \n",
    "'options_mental_health_care',           \n",
    "'gender',                               \n",
    "'mental_health_benefits_prev',          \n",
    "'mh_discuss',                           \n",
    "'productivity',                         \n",
    "'resources_for_help',                   \n",
    "'country_life',                         \n",
    "'work_position',                        \n",
    "'options_prev', \n",
    "'diagnosis']]"
   ]
  },
  {
   "cell_type": "code",
   "execution_count": 3,
   "id": "da12ed5e",
   "metadata": {},
   "outputs": [
    {
     "data": {
      "text/html": [
       "<div>\n",
       "<style scoped>\n",
       "    .dataframe tbody tr th:only-of-type {\n",
       "        vertical-align: middle;\n",
       "    }\n",
       "\n",
       "    .dataframe tbody tr th {\n",
       "        vertical-align: top;\n",
       "    }\n",
       "\n",
       "    .dataframe thead th {\n",
       "        text-align: right;\n",
       "    }\n",
       "</style>\n",
       "<table border=\"1\" class=\"dataframe\">\n",
       "  <thead>\n",
       "    <tr style=\"text-align: right;\">\n",
       "      <th></th>\n",
       "      <th>family_history</th>\n",
       "      <th>age</th>\n",
       "      <th>percentage_of_work_time_affected</th>\n",
       "      <th>bad_response</th>\n",
       "      <th>share_with_family_friends</th>\n",
       "      <th>nb_employees</th>\n",
       "      <th>options_mental_health_care</th>\n",
       "      <th>gender</th>\n",
       "      <th>mental_health_benefits_prev</th>\n",
       "      <th>mh_discuss</th>\n",
       "      <th>productivity</th>\n",
       "      <th>resources_for_help</th>\n",
       "      <th>country_life</th>\n",
       "      <th>work_position</th>\n",
       "      <th>options_prev</th>\n",
       "      <th>diagnosis</th>\n",
       "    </tr>\n",
       "  </thead>\n",
       "  <tbody>\n",
       "    <tr>\n",
       "      <th>0</th>\n",
       "      <td>No</td>\n",
       "      <td>39</td>\n",
       "      <td>0</td>\n",
       "      <td>No</td>\n",
       "      <td>Somewhat open</td>\n",
       "      <td>2</td>\n",
       "      <td>I am not sure</td>\n",
       "      <td>MALE</td>\n",
       "      <td>No, none did</td>\n",
       "      <td>No</td>\n",
       "      <td>Unsure</td>\n",
       "      <td>I know some</td>\n",
       "      <td>United Kingdom</td>\n",
       "      <td>Back-end Developer</td>\n",
       "      <td>N/A (not currently aware)</td>\n",
       "      <td>Yes</td>\n",
       "    </tr>\n",
       "    <tr>\n",
       "      <th>1</th>\n",
       "      <td>Yes</td>\n",
       "      <td>29</td>\n",
       "      <td>0</td>\n",
       "      <td>No</td>\n",
       "      <td>Somewhat open</td>\n",
       "      <td>1</td>\n",
       "      <td>Yes</td>\n",
       "      <td>MALE</td>\n",
       "      <td>Yes, they all did</td>\n",
       "      <td>Yes</td>\n",
       "      <td>Unsure</td>\n",
       "      <td>I know some</td>\n",
       "      <td>United States of America</td>\n",
       "      <td>Back-end Developer|Front-end Developer</td>\n",
       "      <td>I was aware of some</td>\n",
       "      <td>Yes</td>\n",
       "    </tr>\n",
       "    <tr>\n",
       "      <th>2</th>\n",
       "      <td>No</td>\n",
       "      <td>38</td>\n",
       "      <td>0</td>\n",
       "      <td>Maybe/Not sure</td>\n",
       "      <td>Somewhat open</td>\n",
       "      <td>1</td>\n",
       "      <td>I am not sure</td>\n",
       "      <td>MALE</td>\n",
       "      <td>No, none did</td>\n",
       "      <td>No</td>\n",
       "      <td>Unsure</td>\n",
       "      <td>I know some</td>\n",
       "      <td>United Kingdom</td>\n",
       "      <td>Back-end Developer</td>\n",
       "      <td>N/A (not currently aware)</td>\n",
       "      <td>No</td>\n",
       "    </tr>\n",
       "    <tr>\n",
       "      <th>3</th>\n",
       "      <td>No</td>\n",
       "      <td>43</td>\n",
       "      <td>0</td>\n",
       "      <td>No</td>\n",
       "      <td>Neutral</td>\n",
       "      <td>2</td>\n",
       "      <td>I am not sure</td>\n",
       "      <td>MALE</td>\n",
       "      <td>Some did</td>\n",
       "      <td>I don't know</td>\n",
       "      <td>Yes</td>\n",
       "      <td>Yes, I know several</td>\n",
       "      <td>United Kingdom</td>\n",
       "      <td>Supervisor/Team Lead</td>\n",
       "      <td>N/A (not currently aware)</td>\n",
       "      <td>Yes</td>\n",
       "    </tr>\n",
       "    <tr>\n",
       "      <th>4</th>\n",
       "      <td>Yes</td>\n",
       "      <td>43</td>\n",
       "      <td>0</td>\n",
       "      <td>Yes, I experienced</td>\n",
       "      <td>Somewhat open</td>\n",
       "      <td>1</td>\n",
       "      <td>Yes</td>\n",
       "      <td>FEMALE</td>\n",
       "      <td>I don't know</td>\n",
       "      <td>No</td>\n",
       "      <td>Unsure</td>\n",
       "      <td>I know some</td>\n",
       "      <td>United States of America</td>\n",
       "      <td>Executive Leadership|Supervisor/Team Lead|Dev ...</td>\n",
       "      <td>N/A (not currently aware)</td>\n",
       "      <td>Yes</td>\n",
       "    </tr>\n",
       "    <tr>\n",
       "      <th>5</th>\n",
       "      <td>No</td>\n",
       "      <td>42</td>\n",
       "      <td>0</td>\n",
       "      <td>Yes, I experienced</td>\n",
       "      <td>Somewhat open</td>\n",
       "      <td>5</td>\n",
       "      <td>I am not sure</td>\n",
       "      <td>MALE</td>\n",
       "      <td>No, none did</td>\n",
       "      <td>No</td>\n",
       "      <td>Unsure</td>\n",
       "      <td>I know some</td>\n",
       "      <td>United Kingdom</td>\n",
       "      <td>DevOps/SysAdmin|Support|Back-end Developer|Fro...</td>\n",
       "      <td>Yes, I was aware of all of them</td>\n",
       "      <td>No</td>\n",
       "    </tr>\n",
       "    <tr>\n",
       "      <th>6</th>\n",
       "      <td>No</td>\n",
       "      <td>30</td>\n",
       "      <td>0</td>\n",
       "      <td>No</td>\n",
       "      <td>Not applicable to me (I do not have a mental i...</td>\n",
       "      <td>2</td>\n",
       "      <td>No</td>\n",
       "      <td>MALE</td>\n",
       "      <td>Some did</td>\n",
       "      <td>No</td>\n",
       "      <td>Unsure</td>\n",
       "      <td>I know some</td>\n",
       "      <td>United States of America</td>\n",
       "      <td>Back-end Developer</td>\n",
       "      <td>I was aware of some</td>\n",
       "      <td>No</td>\n",
       "    </tr>\n",
       "    <tr>\n",
       "      <th>7</th>\n",
       "      <td>Yes</td>\n",
       "      <td>37</td>\n",
       "      <td>0</td>\n",
       "      <td>Yes, I observed</td>\n",
       "      <td>Somewhat open</td>\n",
       "      <td>5</td>\n",
       "      <td>Yes</td>\n",
       "      <td>FEMALE</td>\n",
       "      <td>Some did</td>\n",
       "      <td>No</td>\n",
       "      <td>Unsure</td>\n",
       "      <td>I know some</td>\n",
       "      <td>United States of America</td>\n",
       "      <td>Dev Evangelist/Advocate|Back-end Developer</td>\n",
       "      <td>I was aware of some</td>\n",
       "      <td>Yes</td>\n",
       "    </tr>\n",
       "    <tr>\n",
       "      <th>8</th>\n",
       "      <td>Yes</td>\n",
       "      <td>44</td>\n",
       "      <td>0</td>\n",
       "      <td>Yes, I observed</td>\n",
       "      <td>Somewhat open</td>\n",
       "      <td>2</td>\n",
       "      <td>No</td>\n",
       "      <td>FEMALE</td>\n",
       "      <td>I don't know</td>\n",
       "      <td>No</td>\n",
       "      <td>Unsure</td>\n",
       "      <td>I know some</td>\n",
       "      <td>United States of America</td>\n",
       "      <td>Support|Back-end Developer|One-person shop</td>\n",
       "      <td>N/A (not currently aware)</td>\n",
       "      <td>Yes</td>\n",
       "    </tr>\n",
       "    <tr>\n",
       "      <th>9</th>\n",
       "      <td>Yes</td>\n",
       "      <td>30</td>\n",
       "      <td>0</td>\n",
       "      <td>No</td>\n",
       "      <td>Very open</td>\n",
       "      <td>2</td>\n",
       "      <td>I am not sure</td>\n",
       "      <td>MALE</td>\n",
       "      <td>Some did</td>\n",
       "      <td>I don't know</td>\n",
       "      <td>Yes</td>\n",
       "      <td>I know some</td>\n",
       "      <td>United States of America</td>\n",
       "      <td>One-person shop|Front-end Developer|Back-end D...</td>\n",
       "      <td>I was aware of some</td>\n",
       "      <td>Yes</td>\n",
       "    </tr>\n",
       "  </tbody>\n",
       "</table>\n",
       "</div>"
      ],
      "text/plain": [
       "  family_history  age  percentage_of_work_time_affected        bad_response  \\\n",
       "0             No   39                                 0                  No   \n",
       "1            Yes   29                                 0                  No   \n",
       "2             No   38                                 0      Maybe/Not sure   \n",
       "3             No   43                                 0                  No   \n",
       "4            Yes   43                                 0  Yes, I experienced   \n",
       "5             No   42                                 0  Yes, I experienced   \n",
       "6             No   30                                 0                  No   \n",
       "7            Yes   37                                 0     Yes, I observed   \n",
       "8            Yes   44                                 0     Yes, I observed   \n",
       "9            Yes   30                                 0                  No   \n",
       "\n",
       "                           share_with_family_friends  nb_employees  \\\n",
       "0                                      Somewhat open             2   \n",
       "1                                      Somewhat open             1   \n",
       "2                                      Somewhat open             1   \n",
       "3                                            Neutral             2   \n",
       "4                                      Somewhat open             1   \n",
       "5                                      Somewhat open             5   \n",
       "6  Not applicable to me (I do not have a mental i...             2   \n",
       "7                                      Somewhat open             5   \n",
       "8                                      Somewhat open             2   \n",
       "9                                          Very open             2   \n",
       "\n",
       "  options_mental_health_care  gender mental_health_benefits_prev  \\\n",
       "0              I am not sure    MALE                No, none did   \n",
       "1                        Yes    MALE           Yes, they all did   \n",
       "2              I am not sure    MALE                No, none did   \n",
       "3              I am not sure    MALE                    Some did   \n",
       "4                        Yes  FEMALE                I don't know   \n",
       "5              I am not sure    MALE                No, none did   \n",
       "6                         No    MALE                    Some did   \n",
       "7                        Yes  FEMALE                    Some did   \n",
       "8                         No  FEMALE                I don't know   \n",
       "9              I am not sure    MALE                    Some did   \n",
       "\n",
       "     mh_discuss productivity   resources_for_help              country_life  \\\n",
       "0            No       Unsure          I know some            United Kingdom   \n",
       "1           Yes       Unsure          I know some  United States of America   \n",
       "2            No       Unsure          I know some            United Kingdom   \n",
       "3  I don't know          Yes  Yes, I know several            United Kingdom   \n",
       "4            No       Unsure          I know some  United States of America   \n",
       "5            No       Unsure          I know some            United Kingdom   \n",
       "6            No       Unsure          I know some  United States of America   \n",
       "7            No       Unsure          I know some  United States of America   \n",
       "8            No       Unsure          I know some  United States of America   \n",
       "9  I don't know          Yes          I know some  United States of America   \n",
       "\n",
       "                                       work_position  \\\n",
       "0                                 Back-end Developer   \n",
       "1             Back-end Developer|Front-end Developer   \n",
       "2                                 Back-end Developer   \n",
       "3                               Supervisor/Team Lead   \n",
       "4  Executive Leadership|Supervisor/Team Lead|Dev ...   \n",
       "5  DevOps/SysAdmin|Support|Back-end Developer|Fro...   \n",
       "6                                 Back-end Developer   \n",
       "7         Dev Evangelist/Advocate|Back-end Developer   \n",
       "8         Support|Back-end Developer|One-person shop   \n",
       "9  One-person shop|Front-end Developer|Back-end D...   \n",
       "\n",
       "                      options_prev diagnosis  \n",
       "0        N/A (not currently aware)       Yes  \n",
       "1              I was aware of some       Yes  \n",
       "2        N/A (not currently aware)        No  \n",
       "3        N/A (not currently aware)       Yes  \n",
       "4        N/A (not currently aware)       Yes  \n",
       "5  Yes, I was aware of all of them        No  \n",
       "6              I was aware of some        No  \n",
       "7              I was aware of some       Yes  \n",
       "8        N/A (not currently aware)       Yes  \n",
       "9              I was aware of some       Yes  "
      ]
     },
     "execution_count": 3,
     "metadata": {},
     "output_type": "execute_result"
    }
   ],
   "source": [
    "data.head(10)"
   ]
  },
  {
   "cell_type": "code",
   "execution_count": 6,
   "id": "0adee9a8",
   "metadata": {},
   "outputs": [],
   "source": [
    "#Séparation cible et le reste\n",
    "target = data['diagnosis']\n",
    "feats=data.drop('diagnosis', axis=1)\n",
    "from sklearn.model_selection import train_test_split\n",
    "X_train, X_test, y_train, y_test = train_test_split(feats, target, test_size = 0.2)\n",
    "#Label encoding pour la cible\n",
    "from sklearn.preprocessing import LabelEncoder\n",
    "labelencoder = LabelEncoder()\n",
    "y_train=labelencoder.fit_transform(y_train)\n",
    "y_test=labelencoder.fit_transform(y_test)"
   ]
  },
  {
   "cell_type": "code",
   "execution_count": 7,
   "id": "504d05da",
   "metadata": {},
   "outputs": [],
   "source": [
    "#séparation test et train en variables numériques et catégorielles\n",
    "var_num_train=X_train.select_dtypes(include=['int', 'float'])\n",
    "var_num_test=X_test.select_dtypes(include=['int', 'float'])\n",
    "var_cat_train=X_train.select_dtypes(include=['O'])\n",
    "var_cat_test=X_test.select_dtypes(include=['O'])\n",
    "#OHE\n",
    "from sklearn.preprocessing import OneHotEncoder\n",
    "ohe = OneHotEncoder(handle_unknown='ignore' ,sparse=False,max_categories=10)\n",
    "var_cat_train_o = ohe.fit_transform(var_cat_train)\n",
    "var_cat_test_o = ohe.transform(var_cat_test)\n",
    "#Reconstruction of X_train et X_test après OHE\n",
    "var_cat_train=pd.DataFrame(var_cat_train_o,columns=ohe.get_feature_names_out(var_cat_train.columns), index=var_cat_train.index)\n",
    "X_train=pd.concat([var_cat_train,var_num_train], axis=1)\n",
    "var_cat_test=pd.DataFrame(var_cat_test_o,columns=ohe.get_feature_names_out(var_cat_test.columns), index=var_cat_test.index)\n",
    "X_test=pd.concat([var_cat_test,var_num_test], axis=1)"
   ]
  },
  {
   "cell_type": "code",
   "execution_count": 10,
   "id": "7f7b636f",
   "metadata": {},
   "outputs": [
    {
     "name": "stdout",
     "output_type": "stream",
     "text": [
      "Score sur ensemble train 0.824607329842932\n",
      "Score sur ensemble test 0.710801393728223\n"
     ]
    },
    {
     "data": {
      "text/plain": [
       "array([[106,  43],\n",
       "       [ 40,  98]], dtype=int64)"
      ]
     },
     "execution_count": 10,
     "metadata": {},
     "output_type": "execute_result"
    }
   ],
   "source": [
    "#Gradient Boosting Classifier\n",
    "from sklearn.ensemble import GradientBoostingClassifier\n",
    "rd_clf = GradientBoostingClassifier(max_depth = 3, n_estimators = 100)\n",
    "rd_clf.fit(X_train, y_train)\n",
    "\n",
    "print('Score sur ensemble train', rd_clf.score(X_train, y_train))\n",
    "print('Score sur ensemble test', rd_clf.score(X_test, y_test))\n",
    "\n",
    "y_pred=rd_clf.predict(X_test)\n",
    "from sklearn.metrics import confusion_matrix\n",
    "confusion_matrix(y_test, y_pred)"
   ]
  }
 ],
 "metadata": {
  "kernelspec": {
   "display_name": "Python 3 (ipykernel)",
   "language": "python",
   "name": "python3"
  },
  "language_info": {
   "codemirror_mode": {
    "name": "ipython",
    "version": 3
   },
   "file_extension": ".py",
   "mimetype": "text/x-python",
   "name": "python",
   "nbconvert_exporter": "python",
   "pygments_lexer": "ipython3",
   "version": "3.9.15"
  }
 },
 "nbformat": 4,
 "nbformat_minor": 5
}
